{
 "cells": [
  {
   "cell_type": "markdown",
   "metadata": {},
   "source": [
    "# People Analytics - Best Model Parameter Tunning"
   ]
  },
  {
   "cell_type": "markdown",
   "metadata": {},
   "source": [
    "**Importing relevant libraries**"
   ]
  },
  {
   "cell_type": "code",
   "execution_count": 1,
   "metadata": {},
   "outputs": [],
   "source": [
    "# Main Libraries\n",
    "import pandas as pd\n",
    "import numpy as np\n",
    "import matplotlib.pyplot as plt\n",
    "import seaborn as sns\n",
    "\n",
    "# Algorithms\n",
    "from sklearn.dummy import DummyRegressor\n",
    "from sklearn.linear_model import LogisticRegression # explicit class import from module\n",
    "from sklearn.ensemble import RandomForestClassifier\n",
    "from xgboost import XGBRFClassifier, XGBClassifier\n",
    "\n",
    "# Utils\n",
    "from imblearn.over_sampling import SMOTE\n",
    "from sklearn.model_selection import train_test_split, cross_validate, cross_val_score\n",
    "from sklearn.model_selection import RandomizedSearchCV, GridSearchCV\n",
    "from sklearn.metrics import accuracy_score, f1_score, recall_score, classification_report\n",
    "from scipy.stats import loguniform\n",
    "\n",
    "# Warnings\n",
    "import warnings\n",
    "warnings.filterwarnings('ignore') # Stopping warnings (deprecation warning, etc.)\n",
    "pd.set_option('display.max_columns', None) # Showing all columns in the dateset, withoud '...' in between."
   ]
  },
  {
   "cell_type": "markdown",
   "metadata": {},
   "source": [
    "**Loading Dataset to Jupyter Notebook**"
   ]
  },
  {
   "cell_type": "code",
   "execution_count": 2,
   "metadata": {},
   "outputs": [],
   "source": [
    "people = pd.read_csv(\"../raw_data/people_train.csv\")"
   ]
  },
  {
   "cell_type": "markdown",
   "metadata": {},
   "source": [
    "**Separating Daset into Predictor and Target varibles**"
   ]
  },
  {
   "cell_type": "code",
   "execution_count": 24,
   "metadata": {},
   "outputs": [],
   "source": [
    "X = people.drop(columns = 'attrition')\n",
    "y = people['attrition']"
   ]
  },
  {
   "cell_type": "code",
   "execution_count": 186,
   "metadata": {},
   "outputs": [],
   "source": [
    "X_train, X_val, y_train, y_val = train_test_split(X, y, random_state = 0)"
   ]
  },
  {
   "cell_type": "markdown",
   "metadata": {},
   "source": [
    "## Dataprep"
   ]
  },
  {
   "cell_type": "markdown",
   "metadata": {},
   "source": [
    "### Balancing Target classes"
   ]
  },
  {
   "cell_type": "code",
   "execution_count": 187,
   "metadata": {},
   "outputs": [],
   "source": [
    "sm = SMOTE(random_state = 0)\n",
    "X_train_smote, y_train_smote = sm.fit_sample(X_train, y_train)"
   ]
  },
  {
   "cell_type": "code",
   "execution_count": 188,
   "metadata": {},
   "outputs": [
    {
     "name": "stdout",
     "output_type": "stream",
     "text": [
      "Before SMOTE: (0: 646, 1: 125)\n",
      "After  SMOTE: (0: 646, 1: 646)\n"
     ]
    }
   ],
   "source": [
    "from collections import Counter\n",
    "print(f\"Before SMOTE: (0: {Counter(y_train)[0]}, 1: {Counter(y_train)[1]})\")\n",
    "print(f\"After  SMOTE: (0: {Counter(y_train_smote)[0]}, 1: {Counter(y_train_smote)[1]})\")"
   ]
  },
  {
   "cell_type": "markdown",
   "metadata": {},
   "source": [
    "## Best Model"
   ]
  },
  {
   "cell_type": "markdown",
   "metadata": {},
   "source": [
    "**Without SMOTE**"
   ]
  },
  {
   "cell_type": "code",
   "execution_count": 189,
   "metadata": {},
   "outputs": [],
   "source": [
    "#sem smote\n",
    "rf_model = RandomForestClassifier(n_estimators=100)"
   ]
  },
  {
   "cell_type": "code",
   "execution_count": 190,
   "metadata": {},
   "outputs": [
    {
     "name": "stdout",
     "output_type": "stream",
     "text": [
      "accuracy:  0.857318810222036\n",
      "f1:        0.20572853072853067\n",
      "recall:    0.10400000000000001\n"
     ]
    }
   ],
   "source": [
    "sacc = cross_val_score(rf_model, X_train, y_train, scoring='accuracy')\n",
    "sf1 = cross_val_score(rf_model, X_train, y_train, scoring='f1')\n",
    "sre = cross_val_score(rf_model, X_train, y_train, scoring='recall')\n",
    "print('accuracy: ', sacc.mean())\n",
    "print('f1:       ', sf1.mean())\n",
    "print('recall:   ', sre.mean())"
   ]
  },
  {
   "cell_type": "markdown",
   "metadata": {},
   "source": [
    "**With SMOTE**"
   ]
  },
  {
   "cell_type": "code",
   "execution_count": 191,
   "metadata": {},
   "outputs": [],
   "source": [
    "# Model with SMOTE\n",
    "rfsmote_model = RandomForestClassifier(n_estimators=100)"
   ]
  },
  {
   "cell_type": "code",
   "execution_count": 192,
   "metadata": {},
   "outputs": [
    {
     "name": "stdout",
     "output_type": "stream",
     "text": [
      "accuracy:  0.9064948669599833\n",
      "f1:        0.8653464985156727\n",
      "recall:    0.8573881932021467\n"
     ]
    }
   ],
   "source": [
    "# Accuracy score\n",
    "score_acc = cross_val_score(rfsmote_model, X_train_smote, y_train_smote, scoring='accuracy')\n",
    "\n",
    "#F1 score\n",
    "score_f1 = cross_val_score(rfsmote_model, X_train_smote, y_train_smote, scoring='f1')\n",
    "\n",
    "# Recall score\n",
    "score_rec = cross_val_score(rfsmote_model, X_train_smote, y_train_smote, scoring='recall')\n",
    "\n",
    "print('accuracy: ', score_acc.mean())\n",
    "print('f1:       ', score_f1.mean())\n",
    "print('recall:   ', score_rec.mean())"
   ]
  },
  {
   "cell_type": "code",
   "execution_count": 193,
   "metadata": {},
   "outputs": [],
   "source": [
    "# # Accuracy score\n",
    "# score_acc2 = cross_val_score(rfsmote_model, X_val, y_val, scoring='accuracy')\n",
    "\n",
    "# #F1 score\n",
    "# score_f12 = cross_val_score(rfsmote_model, X_val, y_val, scoring='f1')\n",
    "\n",
    "# # Recall score\n",
    "# score_rec2 = cross_val_score(rfsmote_model, X_val, y_val, scoring='recall')\n",
    "\n",
    "# print('accuracy: ', score_acc2.mean())\n",
    "# print('f1:       ', score_f12.mean())\n",
    "# print('recall:   ', score_rec2.mean())"
   ]
  },
  {
   "cell_type": "code",
   "execution_count": 194,
   "metadata": {},
   "outputs": [
    {
     "data": {
      "text/plain": [
       "RandomForestClassifier()"
      ]
     },
     "execution_count": 194,
     "metadata": {},
     "output_type": "execute_result"
    }
   ],
   "source": [
    "rfsmote_model.fit(X_train_smote, y_train_smote)"
   ]
  },
  {
   "cell_type": "code",
   "execution_count": 195,
   "metadata": {},
   "outputs": [
    {
     "data": {
      "text/plain": [
       "0.8449612403100775"
      ]
     },
     "execution_count": 195,
     "metadata": {},
     "output_type": "execute_result"
    }
   ],
   "source": [
    "rfsmote_model.score(X_val, y_val) # ACCURACY, not the best metrics for this case"
   ]
  },
  {
   "cell_type": "code",
   "execution_count": 196,
   "metadata": {},
   "outputs": [],
   "source": [
    "y_pred_rfs = rfsmote_model.predict(X_val)"
   ]
  },
  {
   "cell_type": "code",
   "execution_count": 197,
   "metadata": {},
   "outputs": [
    {
     "name": "stdout",
     "output_type": "stream",
     "text": [
      "F1-score:      0.33333333333333326\n",
      "Recall score:  0.23809523809523808\n"
     ]
    }
   ],
   "source": [
    "print(f\"F1-score:     \", f1_score(y_val, y_pred_rfs))\n",
    "print(f\"Recall score: \", recall_score(y_val, y_pred_rfs))"
   ]
  },
  {
   "cell_type": "code",
   "execution_count": 198,
   "metadata": {},
   "outputs": [
    {
     "name": "stdout",
     "output_type": "stream",
     "text": [
      "              precision    recall  f1-score   support\n",
      "\n",
      "           0       0.87      0.96      0.91       216\n",
      "           1       0.56      0.24      0.33        42\n",
      "\n",
      "    accuracy                           0.84       258\n",
      "   macro avg       0.71      0.60      0.62       258\n",
      "weighted avg       0.82      0.84      0.82       258\n",
      "\n"
     ]
    }
   ],
   "source": [
    "print(classification_report(y_val, y_pred_rfs))"
   ]
  },
  {
   "cell_type": "markdown",
   "metadata": {},
   "source": [
    "## Parameter Tunning\n",
    "\n",
    "1. With RandomSearch\n",
    "2. With GridSearch"
   ]
  },
  {
   "cell_type": "code",
   "execution_count": 199,
   "metadata": {},
   "outputs": [],
   "source": [
    "# Params for RandomizedSearchCV\n",
    "\n",
    "rand_params = {\n",
    "    'criterion': ['gini', 'entropy'],\n",
    "#     'min_samples_split': np.random.ran,\n",
    "#     'min_samples_leaf': np.random.randint(1, 5),\n",
    "    'min_weight_fraction_leaf': loguniform(0.001, 1),\n",
    "    'oob_score': [True, False],\n",
    "#     'ccp_alpha': loguniform(0, 0.5)\n",
    "}"
   ]
  },
  {
   "cell_type": "code",
   "execution_count": 200,
   "metadata": {},
   "outputs": [],
   "source": [
    "rand_rfsmote_model = RandomizedSearchCV(rfsmote_model, \n",
    "                                        param_distributions = rand_params,\n",
    "                                        n_iter = 10,\n",
    "                                        n_jobs = -1,\n",
    "                                        cv = 10,\n",
    "                                        scoring = 'f1',\n",
    "                                        random_state = 0,\n",
    "                                        verbose = 1)"
   ]
  },
  {
   "cell_type": "code",
   "execution_count": 201,
   "metadata": {},
   "outputs": [
    {
     "name": "stdout",
     "output_type": "stream",
     "text": [
      "Fitting 10 folds for each of 10 candidates, totalling 100 fits\n"
     ]
    },
    {
     "name": "stderr",
     "output_type": "stream",
     "text": [
      "[Parallel(n_jobs=-1)]: Using backend LokyBackend with 4 concurrent workers.\n",
      "[Parallel(n_jobs=-1)]: Done  42 tasks      | elapsed:   10.6s\n",
      "[Parallel(n_jobs=-1)]: Done 100 out of 100 | elapsed:   18.1s finished\n"
     ]
    },
    {
     "data": {
      "text/plain": [
       "RandomizedSearchCV(cv=10, estimator=RandomForestClassifier(), n_jobs=-1,\n",
       "                   param_distributions={'criterion': ['gini', 'entropy'],\n",
       "                                        'min_weight_fraction_leaf': <scipy.stats._distn_infrastructure.rv_frozen object at 0x122e4dcd0>,\n",
       "                                        'oob_score': [True, False]},\n",
       "                   random_state=0, scoring='f1', verbose=1)"
      ]
     },
     "execution_count": 201,
     "metadata": {},
     "output_type": "execute_result"
    }
   ],
   "source": [
    "rand_rfsmote_model.fit(X_train_smote, y_train_smote)"
   ]
  },
  {
   "cell_type": "code",
   "execution_count": 202,
   "metadata": {},
   "outputs": [
    {
     "data": {
      "text/plain": [
       "0.40625000000000006"
      ]
     },
     "execution_count": 202,
     "metadata": {},
     "output_type": "execute_result"
    }
   ],
   "source": [
    "rand_rfsmote_model.score(X_val, y_val)"
   ]
  },
  {
   "cell_type": "code",
   "execution_count": 203,
   "metadata": {},
   "outputs": [],
   "source": [
    "y_pred = rand_rfsmote_model.predict(X_val)"
   ]
  },
  {
   "cell_type": "code",
   "execution_count": 204,
   "metadata": {},
   "outputs": [
    {
     "name": "stdout",
     "output_type": "stream",
     "text": [
      "              precision    recall  f1-score   support\n",
      "\n",
      "           0       0.88      0.96      0.92       216\n",
      "           1       0.59      0.31      0.41        42\n",
      "\n",
      "    accuracy                           0.85       258\n",
      "   macro avg       0.73      0.63      0.66       258\n",
      "weighted avg       0.83      0.85      0.83       258\n",
      "\n"
     ]
    }
   ],
   "source": [
    "print(classification_report(y_val, y_pred))"
   ]
  },
  {
   "cell_type": "markdown",
   "metadata": {},
   "source": [
    "## XGBoost Classifier"
   ]
  },
  {
   "cell_type": "code",
   "execution_count": 205,
   "metadata": {},
   "outputs": [],
   "source": [
    "xgb_model = XGBClassifier()"
   ]
  },
  {
   "cell_type": "code",
   "execution_count": 206,
   "metadata": {},
   "outputs": [
    {
     "data": {
      "text/plain": [
       "XGBClassifier(base_score=0.5, booster='gbtree', colsample_bylevel=1,\n",
       "              colsample_bynode=1, colsample_bytree=1, gamma=0, gpu_id=-1,\n",
       "              importance_type='gain', interaction_constraints='',\n",
       "              learning_rate=0.300000012, max_delta_step=0, max_depth=6,\n",
       "              min_child_weight=1, missing=nan, monotone_constraints='()',\n",
       "              n_estimators=100, n_jobs=0, num_parallel_tree=1, random_state=0,\n",
       "              reg_alpha=0, reg_lambda=1, scale_pos_weight=1, subsample=1,\n",
       "              tree_method='exact', validate_parameters=1, verbosity=None)"
      ]
     },
     "execution_count": 206,
     "metadata": {},
     "output_type": "execute_result"
    }
   ],
   "source": [
    "xgb_model.fit(X_train_smote, y_train_smote)"
   ]
  },
  {
   "cell_type": "code",
   "execution_count": 207,
   "metadata": {},
   "outputs": [
    {
     "data": {
      "text/plain": [
       "0.8682170542635659"
      ]
     },
     "execution_count": 207,
     "metadata": {},
     "output_type": "execute_result"
    }
   ],
   "source": [
    "xgb_model.score(X_val, y_val)"
   ]
  },
  {
   "cell_type": "code",
   "execution_count": 208,
   "metadata": {},
   "outputs": [],
   "source": [
    "y_pred_xgb = xgb_model.predict(X_val)"
   ]
  },
  {
   "cell_type": "code",
   "execution_count": 209,
   "metadata": {},
   "outputs": [
    {
     "name": "stdout",
     "output_type": "stream",
     "text": [
      "F1-score:      0.5\n",
      "Recall score:  0.40476190476190477\n"
     ]
    }
   ],
   "source": [
    "print(f\"F1-score:     \", f1_score(y_val, y_pred_xgb))\n",
    "print(f\"Recall score: \", recall_score(y_val, y_pred_xgb))"
   ]
  },
  {
   "cell_type": "code",
   "execution_count": 210,
   "metadata": {},
   "outputs": [
    {
     "name": "stdout",
     "output_type": "stream",
     "text": [
      "              precision    recall  f1-score   support\n",
      "\n",
      "           0       0.89      0.96      0.92       216\n",
      "           1       0.65      0.40      0.50        42\n",
      "\n",
      "    accuracy                           0.87       258\n",
      "   macro avg       0.77      0.68      0.71       258\n",
      "weighted avg       0.85      0.87      0.86       258\n",
      "\n"
     ]
    }
   ],
   "source": [
    "print(classification_report(y_val, y_pred_xgb))"
   ]
  },
  {
   "cell_type": "markdown",
   "metadata": {},
   "source": [
    "## XGBoostRF Classifier"
   ]
  },
  {
   "cell_type": "code",
   "execution_count": 211,
   "metadata": {},
   "outputs": [],
   "source": [
    "xgbrf_model = XGBRFClassifier(learning_rate = 0.0001, random_state = 42, n_estimators = 1000)"
   ]
  },
  {
   "cell_type": "code",
   "execution_count": 212,
   "metadata": {},
   "outputs": [
    {
     "data": {
      "text/plain": [
       "XGBRFClassifier(base_score=0.5, booster='gbtree', colsample_bylevel=1,\n",
       "                colsample_bytree=1, gamma=0, gpu_id=-1, importance_type='gain',\n",
       "                interaction_constraints='', learning_rate=0.0001,\n",
       "                max_delta_step=0, max_depth=6, min_child_weight=1, missing=nan,\n",
       "                monotone_constraints='()', n_estimators=1000, n_jobs=0,\n",
       "                num_parallel_tree=1000, objective='binary:logistic',\n",
       "                random_state=42, reg_alpha=0, scale_pos_weight=1,\n",
       "                tree_method='exact', validate_parameters=1, verbosity=None)"
      ]
     },
     "execution_count": 212,
     "metadata": {},
     "output_type": "execute_result"
    }
   ],
   "source": [
    "xgbrf_model.fit(X_train_smote, y_train_smote)"
   ]
  },
  {
   "cell_type": "code",
   "execution_count": 213,
   "metadata": {},
   "outputs": [],
   "source": [
    "y_pred_xgbrf = xgbrf_model.predict(X_val)"
   ]
  },
  {
   "cell_type": "code",
   "execution_count": 214,
   "metadata": {},
   "outputs": [
    {
     "name": "stdout",
     "output_type": "stream",
     "text": [
      "              precision    recall  f1-score   support\n",
      "\n",
      "           0       0.87      0.92      0.89       216\n",
      "           1       0.39      0.26      0.31        42\n",
      "\n",
      "    accuracy                           0.81       258\n",
      "   macro avg       0.63      0.59      0.60       258\n",
      "weighted avg       0.79      0.81      0.80       258\n",
      "\n"
     ]
    }
   ],
   "source": [
    "print(classification_report(y_val, y_pred_xgbrf))"
   ]
  },
  {
   "cell_type": "code",
   "execution_count": 215,
   "metadata": {},
   "outputs": [],
   "source": [
    "xgbrf_model_acc = cross_validate(xgbrf_model, X_train_smote, y_train_smote, scoring='accuracy')\n",
    "xgbrf_model_f1 = cross_validate(xgbrf_model, X_train_smote, y_train_smote, scoring='f1')\n",
    "xgbrf_model_re = cross_validate(xgbrf_model, X_train_smote, y_train_smote, scoring='recall')"
   ]
  },
  {
   "cell_type": "code",
   "execution_count": 216,
   "metadata": {},
   "outputs": [
    {
     "name": "stdout",
     "output_type": "stream",
     "text": [
      "accuracy:  0.8786238065307833\n",
      "f1:        0.8468923855233295\n",
      "recall:    0.8310435301132977\n"
     ]
    }
   ],
   "source": [
    "print('accuracy: ', xgbrf_model_acc['test_score'].mean())\n",
    "print('f1:       ', xgbrf_model_f1['test_score'].mean())\n",
    "print('recall:   ', xgbrf_model_re['test_score'].mean())"
   ]
  },
  {
   "cell_type": "markdown",
   "metadata": {},
   "source": [
    "### RandomizedSearchCV for XGBoostRF Classifier"
   ]
  },
  {
   "cell_type": "code",
   "execution_count": 217,
   "metadata": {},
   "outputs": [],
   "source": [
    "params = {\n",
    "    'learning_rate': loguniform(.001, 1),\n",
    "    'booster': ['gbtree', 'gblinear', 'dart'],\n",
    "    'gamma': loguniform(0.001, 1),\n",
    "    'reg_alpha': loguniform(0.00001, 1),\n",
    "    'reg_lambda': loguniform(0.00001, 1),\n",
    "    'subsample': loguniform(0.5, 0.8),\n",
    "    'colsample_bynode': loguniform(0.5, 0.8)\n",
    "}"
   ]
  },
  {
   "cell_type": "code",
   "execution_count": 218,
   "metadata": {},
   "outputs": [],
   "source": [
    "randsearch_xgbrf = RandomizedSearchCV(xgbrf_model, param_distributions = params, n_iter = 10, cv = 5,\n",
    "                                      n_jobs = -1, scoring = ['f1', 'recall'], refit = 'f1',\n",
    "                                      verbose = 1)"
   ]
  },
  {
   "cell_type": "code",
   "execution_count": 219,
   "metadata": {},
   "outputs": [
    {
     "name": "stdout",
     "output_type": "stream",
     "text": [
      "Fitting 5 folds for each of 10 candidates, totalling 50 fits\n"
     ]
    },
    {
     "name": "stderr",
     "output_type": "stream",
     "text": [
      "[Parallel(n_jobs=-1)]: Using backend LokyBackend with 4 concurrent workers.\n",
      "[Parallel(n_jobs=-1)]: Done  42 tasks      | elapsed:   37.8s\n",
      "[Parallel(n_jobs=-1)]: Done  50 out of  50 | elapsed:   45.9s finished\n"
     ]
    },
    {
     "data": {
      "text/plain": [
       "RandomizedSearchCV(cv=5,\n",
       "                   estimator=XGBRFClassifier(base_score=0.5, booster='gbtree',\n",
       "                                             colsample_bylevel=1,\n",
       "                                             colsample_bytree=1, gamma=0,\n",
       "                                             gpu_id=-1, importance_type='gain',\n",
       "                                             interaction_constraints='',\n",
       "                                             learning_rate=0.0001,\n",
       "                                             max_delta_step=0, max_depth=6,\n",
       "                                             min_child_weight=1, missing=nan,\n",
       "                                             monotone_constraints='()',\n",
       "                                             n_estimators=1000, n_jobs=0,\n",
       "                                             num_parallel_tree=1000,\n",
       "                                             obje...\n",
       "                                        'learning_rate': <scipy.stats._distn_infrastructure.rv_frozen object at 0x122e67410>,\n",
       "                                        'reg_alpha': <scipy.stats._distn_infrastructure.rv_frozen object at 0x122e67d90>,\n",
       "                                        'reg_lambda': <scipy.stats._distn_infrastructure.rv_frozen object at 0x122e67e90>,\n",
       "                                        'subsample': <scipy.stats._distn_infrastructure.rv_frozen object at 0x122e67bd0>},\n",
       "                   refit='f1', scoring=['f1', 'recall'], verbose=1)"
      ]
     },
     "execution_count": 219,
     "metadata": {},
     "output_type": "execute_result"
    }
   ],
   "source": [
    "randsearch_xgbrf.fit(X_train_smote, y_train_smote)"
   ]
  },
  {
   "cell_type": "code",
   "execution_count": 220,
   "metadata": {},
   "outputs": [],
   "source": [
    "y_pred_rs_xgbrf = randsearch_xgbrf.predict(X_val)"
   ]
  },
  {
   "cell_type": "code",
   "execution_count": 221,
   "metadata": {},
   "outputs": [
    {
     "name": "stdout",
     "output_type": "stream",
     "text": [
      "              precision    recall  f1-score   support\n",
      "\n",
      "           0       0.87      0.94      0.90       216\n",
      "           1       0.46      0.29      0.35        42\n",
      "\n",
      "    accuracy                           0.83       258\n",
      "   macro avg       0.67      0.61      0.63       258\n",
      "weighted avg       0.80      0.83      0.81       258\n",
      "\n"
     ]
    }
   ],
   "source": [
    "print(classification_report(y_val, y_pred_rs_xgbrf))"
   ]
  },
  {
   "cell_type": "code",
   "execution_count": 171,
   "metadata": {},
   "outputs": [
    {
     "data": {
      "text/plain": [
       "array([0.00568387, 0.00580447, 0.00550472, 0.00872019, 0.02526303,\n",
       "       0.02061308, 0.00892972, 0.00868248, 0.01360461, 0.1400478 ,\n",
       "       0.02072521, 0.00856427, 0.01268584, 0.01136112, 0.00997499,\n",
       "       0.00759482, 0.01135745, 0.01550745, 0.03975371, 0.0069609 ,\n",
       "       0.02202924, 0.01079869, 0.00781583, 0.0132259 , 0.01137589,\n",
       "       0.01041574, 0.02183324, 0.00815308, 0.01645139, 0.01708712,\n",
       "       0.02309298, 0.01303383, 0.00609566, 0.01786266, 0.0082855 ,\n",
       "       0.02097218, 0.01066124, 0.00811926, 0.00765431, 0.01691765,\n",
       "       0.0522415 , 0.00866196, 0.01441193, 0.0133677 , 0.05654325,\n",
       "       0.00824266, 0.02311758, 0.0541344 , 0.06491003, 0.04514776],\n",
       "      dtype=float32)"
      ]
     },
     "execution_count": 171,
     "metadata": {},
     "output_type": "execute_result"
    }
   ],
   "source": [
    "xgbrf_model.feature_importances_"
   ]
  },
  {
   "cell_type": "code",
   "execution_count": 172,
   "metadata": {},
   "outputs": [
    {
     "data": {
      "text/plain": [
       "<bound method XGBRFClassifier.get_xgb_params of XGBRFClassifier(base_score=0.5, booster='gbtree', colsample_bylevel=1,\n",
       "                colsample_bytree=1, gamma=0, gpu_id=-1, importance_type='gain',\n",
       "                interaction_constraints='', learning_rate=0.0001,\n",
       "                max_delta_step=0, max_depth=6, min_child_weight=1, missing=nan,\n",
       "                monotone_constraints='()', n_estimators=1000, n_jobs=0,\n",
       "                num_parallel_tree=1000, objective='binary:logistic',\n",
       "                random_state=42, reg_alpha=0, scale_pos_weight=1,\n",
       "                tree_method='exact', validate_parameters=1, verbosity=None)>"
      ]
     },
     "execution_count": 172,
     "metadata": {},
     "output_type": "execute_result"
    }
   ],
   "source": [
    "xgbrf_model.get_xgb_params"
   ]
  },
  {
   "cell_type": "code",
   "execution_count": null,
   "metadata": {},
   "outputs": [],
   "source": []
  }
 ],
 "metadata": {
  "kernelspec": {
   "display_name": "Python 3",
   "language": "python",
   "name": "python3"
  },
  "language_info": {
   "codemirror_mode": {
    "name": "ipython",
    "version": 3
   },
   "file_extension": ".py",
   "mimetype": "text/x-python",
   "name": "python",
   "nbconvert_exporter": "python",
   "pygments_lexer": "ipython3",
   "version": "3.7.7"
  },
  "toc": {
   "base_numbering": 1,
   "nav_menu": {},
   "number_sections": true,
   "sideBar": true,
   "skip_h1_title": false,
   "title_cell": "Table of Contents",
   "title_sidebar": "Contents",
   "toc_cell": false,
   "toc_position": {},
   "toc_section_display": true,
   "toc_window_display": false
  },
  "varInspector": {
   "cols": {
    "lenName": 16,
    "lenType": 16,
    "lenVar": 40
   },
   "kernels_config": {
    "python": {
     "delete_cmd_postfix": "",
     "delete_cmd_prefix": "del ",
     "library": "var_list.py",
     "varRefreshCmd": "print(var_dic_list())"
    },
    "r": {
     "delete_cmd_postfix": ") ",
     "delete_cmd_prefix": "rm(",
     "library": "var_list.r",
     "varRefreshCmd": "cat(var_dic_list()) "
    }
   },
   "types_to_exclude": [
    "module",
    "function",
    "builtin_function_or_method",
    "instance",
    "_Feature"
   ],
   "window_display": false
  }
 },
 "nbformat": 4,
 "nbformat_minor": 4
}
