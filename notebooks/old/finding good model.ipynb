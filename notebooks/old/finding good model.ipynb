{
 "cells": [
  {
   "cell_type": "code",
   "execution_count": 1,
   "metadata": {},
   "outputs": [],
   "source": [
    "import pandas as pd\n",
    "import numpy as np\n",
    "import matplotlib.pyplot as plt\n",
    "import seaborn as sns\n",
    "import warnings\n",
    "\n",
    "from sklearn.linear_model import LinearRegression # explicit class import from module\n",
    "from sklearn.linear_model import LogisticRegression # explicit class import from module\n",
    "from sklearn.dummy import DummyRegressor\n",
    "from sklearn.neighbors import KNeighborsClassifier #we know where this object comes from\n",
    "from sklearn.model_selection import train_test_split\n",
    "from sklearn import metrics\n",
    "from sklearn.model_selection import cross_validate\n",
    "from sklearn.model_selection import cross_val_score\n",
    "from sklearn.metrics import accuracy_score, f1_score, recall_score\n",
    "from sklearn.ensemble import RandomForestClassifier\n",
    "\n",
    "from imblearn.over_sampling import SMOTE\n",
    "\n",
    "from sklearn.metrics import classification_report\n",
    "\n",
    "\n",
    "warnings.filterwarnings('ignore') # Code for stopping warnings (deprecation warning, etc.)\n",
    "pd.set_option('display.max_columns', None) # Code for showing all columns in the dateset, withoud '...' in between."
   ]
  },
  {
   "cell_type": "code",
   "execution_count": 2,
   "metadata": {},
   "outputs": [],
   "source": [
    "people = pd.read_csv(\"../raw_data/people_train.csv\")"
   ]
  },
  {
   "cell_type": "code",
   "execution_count": 3,
   "metadata": {},
   "outputs": [],
   "source": [
    "X = people.drop(columns = 'attrition')\n",
    "y = people['attrition']"
   ]
  },
  {
   "cell_type": "code",
   "execution_count": 4,
   "metadata": {},
   "outputs": [],
   "source": [
    "X_train, X_val, y_train, y_val = train_test_split(X,y, random_state = 0)"
   ]
  },
  {
   "cell_type": "code",
   "execution_count": 5,
   "metadata": {},
   "outputs": [],
   "source": [
    "sm = SMOTE()\n",
    "X_train_smote, y_train_smote = sm.fit_sample(X_train, y_train)"
   ]
  },
  {
   "cell_type": "code",
   "execution_count": 6,
   "metadata": {},
   "outputs": [
    {
     "name": "stdout",
     "output_type": "stream",
     "text": [
      "before SMOTE : Counter({0: 646, 1: 125})\n",
      "after SMOTE : Counter({0: 646, 1: 646})\n"
     ]
    }
   ],
   "source": [
    "from collections import Counter\n",
    "print('before SMOTE :' , Counter(y_train))\n",
    "print('after SMOTE :' , Counter(y_train_smote))"
   ]
  },
  {
   "cell_type": "markdown",
   "metadata": {},
   "source": [
    "# KNeighbors Classifier"
   ]
  },
  {
   "cell_type": "code",
   "execution_count": 7,
   "metadata": {},
   "outputs": [
    {
     "name": "stdout",
     "output_type": "stream",
     "text": [
      "              precision    recall  f1-score   support\n",
      "\n",
      "           0       0.97      0.84      0.90       251\n",
      "           1       0.02      0.14      0.04         7\n",
      "\n",
      "    accuracy                           0.82       258\n",
      "   macro avg       0.50      0.49      0.47       258\n",
      "weighted avg       0.95      0.82      0.88       258\n",
      "\n"
     ]
    }
   ],
   "source": [
    "model = KNeighborsClassifier()\n",
    "model.fit(X_train, y_train)\n",
    "y_pred = model.predict(X_val)\n",
    "print(classification_report(y_pred, y_val))"
   ]
  },
  {
   "cell_type": "code",
   "execution_count": 8,
   "metadata": {},
   "outputs": [
    {
     "name": "stdout",
     "output_type": "stream",
     "text": [
      "accuracy:  0.5581395348837209\n",
      "f1:  0.2692307692307692\n",
      "recall:  0.5\n"
     ]
    }
   ],
   "source": [
    "model = KNeighborsClassifier()\n",
    "model.fit(X_train_smote, y_train_smote)\n",
    "y_pred = model.predict(X_val)\n",
    "print('accuracy: ',accuracy_score(y_val, y_pred))\n",
    "print('f1: ',f1_score(y_val, y_pred))\n",
    "print('recall: ',recall_score(y_val, y_pred))"
   ]
  },
  {
   "cell_type": "code",
   "execution_count": null,
   "metadata": {},
   "outputs": [],
   "source": []
  },
  {
   "cell_type": "code",
   "execution_count": 9,
   "metadata": {},
   "outputs": [
    {
     "name": "stdout",
     "output_type": "stream",
     "text": [
      "accuracy:  0.813229995810641\n",
      "f1:  0.014814814814814814\n",
      "recall:  0.008\n"
     ]
    }
   ],
   "source": [
    "model = KNeighborsClassifier()\n",
    "sacc = cross_val_score(model, X_train, y_train, scoring='accuracy')\n",
    "sf1 = cross_val_score(model, X_train, y_train, scoring='f1')\n",
    "sre = cross_val_score(model, X_train, y_train, scoring='recall')\n",
    "print('accuracy: ',sacc.mean())\n",
    "print('f1: ',sf1.mean())\n",
    "print('recall: ',sre.mean())"
   ]
  },
  {
   "cell_type": "code",
   "execution_count": 10,
   "metadata": {},
   "outputs": [
    {
     "name": "stdout",
     "output_type": "stream",
     "text": [
      "accuracy:  0.6640806919876686\n",
      "f1:  0.6995765148211393\n",
      "recall:  0.7832677400119261\n"
     ]
    }
   ],
   "source": [
    "model = KNeighborsClassifier()\n",
    "sacc = cross_val_score(model, X_train_smote, y_train_smote, scoring='accuracy')\n",
    "sf1 = cross_val_score(model, X_train_smote, y_train_smote, scoring='f1')\n",
    "sre = cross_val_score(model, X_train_smote, y_train_smote, scoring='recall')\n",
    "print('accuracy: ',sacc.mean())\n",
    "print('f1: ',sf1.mean())\n",
    "print('recall: ',sre.mean())"
   ]
  },
  {
   "cell_type": "markdown",
   "metadata": {},
   "source": [
    "# Logistic Regression\n"
   ]
  },
  {
   "cell_type": "code",
   "execution_count": 11,
   "metadata": {},
   "outputs": [
    {
     "name": "stdout",
     "output_type": "stream",
     "text": [
      "accuracy:  0.8775467677006867\n",
      "f1:  0.4882468987595039\n",
      "recall:  0.3593582887700535\n"
     ]
    }
   ],
   "source": [
    "model = LogisticRegression()\n",
    "sacc = cross_val_score(model, X, y, scoring='accuracy')\n",
    "sf1 = cross_val_score(model, X, y, scoring='f1')\n",
    "sre = cross_val_score(model, X, y, scoring='recall')\n",
    "print('accuracy: ',sacc.mean())\n",
    "print('f1: ',sf1.mean())\n",
    "print('recall: ',sre.mean())"
   ]
  },
  {
   "cell_type": "code",
   "execution_count": 12,
   "metadata": {},
   "outputs": [
    {
     "name": "stdout",
     "output_type": "stream",
     "text": [
      "accuracy:  0.7599431683637224\n",
      "f1:  0.5020598789428383\n",
      "recall:  0.7306595365418895\n"
     ]
    }
   ],
   "source": [
    "model = LogisticRegression(class_weight='balanced')\n",
    "sacc = cross_val_score(model, X, y, scoring='accuracy')\n",
    "sf1 = cross_val_score(model, X, y, scoring='f1')\n",
    "sre = cross_val_score(model, X, y, scoring='recall')\n",
    "print('accuracy: ',sacc.mean())\n",
    "print('f1: ',sf1.mean())\n",
    "print('recall: ',sre.mean())"
   ]
  },
  {
   "cell_type": "code",
   "execution_count": 13,
   "metadata": {},
   "outputs": [
    {
     "name": "stdout",
     "output_type": "stream",
     "text": [
      "accuracy:  0.8646763042111878\n",
      "f1:  0.8342099000468697\n",
      "recall:  0.8294812164579607\n"
     ]
    }
   ],
   "source": [
    "model = LogisticRegression()\n",
    "sacc = cross_val_score(model, X_train_smote, y_train_smote, scoring='accuracy')\n",
    "sf1 = cross_val_score(model, X_train_smote, y_train_smote, scoring='f1')\n",
    "sre = cross_val_score(model, X_train_smote, y_train_smote, scoring='recall')\n",
    "print('accuracy: ',sacc.mean())\n",
    "print('f1: ',sf1.mean())\n",
    "print('recall: ',sre.mean())"
   ]
  },
  {
   "cell_type": "code",
   "execution_count": 14,
   "metadata": {},
   "outputs": [
    {
     "name": "stdout",
     "output_type": "stream",
     "text": [
      "accuracy:  0.8615875011223848\n",
      "f1:  0.8279585192058436\n",
      "recall:  0.8217531305903399\n"
     ]
    }
   ],
   "source": [
    "model = LogisticRegression(class_weight='balanced')\n",
    "sacc = cross_val_score(model, X_train_smote, y_train_smote, scoring='accuracy')\n",
    "sf1 = cross_val_score(model, X_train_smote, y_train_smote, scoring='f1')\n",
    "sre = cross_val_score(model, X_train_smote, y_train_smote, scoring='recall')\n",
    "print('accuracy: ',sacc.mean())\n",
    "print('f1: ',sf1.mean())\n",
    "print('recall: ',sre.mean())"
   ]
  },
  {
   "cell_type": "code",
   "execution_count": 15,
   "metadata": {},
   "outputs": [
    {
     "data": {
      "text/plain": [
       "0.8798449612403101"
      ]
     },
     "execution_count": 15,
     "metadata": {},
     "output_type": "execute_result"
    }
   ],
   "source": [
    "\n",
    "model = LogisticRegression()\n",
    "model.fit(X_train,y_train)\n",
    "model.score(X_val,y_val)"
   ]
  },
  {
   "cell_type": "code",
   "execution_count": 16,
   "metadata": {},
   "outputs": [
    {
     "data": {
      "text/plain": [
       "0.7945736434108527"
      ]
     },
     "execution_count": 16,
     "metadata": {},
     "output_type": "execute_result"
    }
   ],
   "source": [
    "model = LogisticRegression(class_weight='balanced')\n",
    "model.fit(X_train,y_train)\n",
    "model.score(X_val,y_val)"
   ]
  },
  {
   "cell_type": "code",
   "execution_count": 17,
   "metadata": {},
   "outputs": [
    {
     "data": {
      "text/plain": [
       "0.8449612403100775"
      ]
     },
     "execution_count": 17,
     "metadata": {},
     "output_type": "execute_result"
    }
   ],
   "source": [
    "model = LogisticRegression()\n",
    "model.fit(X_train_smote,y_train_smote)\n",
    "model.score(X_val,y_val)"
   ]
  },
  {
   "cell_type": "code",
   "execution_count": 18,
   "metadata": {},
   "outputs": [],
   "source": [
    "#análise exploratória e model tunning"
   ]
  },
  {
   "cell_type": "markdown",
   "metadata": {},
   "source": [
    "# Random Forest Generator"
   ]
  },
  {
   "cell_type": "code",
   "execution_count": 19,
   "metadata": {},
   "outputs": [
    {
     "name": "stdout",
     "output_type": "stream",
     "text": [
      "accuracy:  0.8534310850439883\n",
      "f1:  0.19300310162379128\n",
      "recall:  0.11200000000000002\n"
     ]
    }
   ],
   "source": [
    "model = RandomForestClassifier(n_estimators=100)\n",
    "sacc = cross_val_score(model, X_train, y_train, scoring='accuracy')\n",
    "sf1 = cross_val_score(model, X_train, y_train, scoring='f1')\n",
    "sre = cross_val_score(model, X_train, y_train, scoring='recall')\n",
    "print('accuracy: ',sacc.mean())\n",
    "print('f1: ',sf1.mean())\n",
    "print('recall: ',sre.mean())"
   ]
  },
  {
   "cell_type": "code",
   "execution_count": 20,
   "metadata": {},
   "outputs": [
    {
     "name": "stdout",
     "output_type": "stream",
     "text": [
      "accuracy:  0.90340606387118\n",
      "f1:  0.8763531150276321\n",
      "recall:  0.848062015503876\n"
     ]
    }
   ],
   "source": [
    "model = RandomForestClassifier(n_estimators=100)\n",
    "sacc = cross_val_score(model, X_train_smote, y_train_smote, scoring='accuracy')\n",
    "sf1 = cross_val_score(model, X_train_smote, y_train_smote, scoring='f1')\n",
    "sre = cross_val_score(model, X_train_smote, y_train_smote, scoring='recall')\n",
    "print('accuracy: ',sacc.mean())\n",
    "print('f1: ',sf1.mean())\n",
    "print('recall: ',sre.mean())\n"
   ]
  },
  {
   "cell_type": "code",
   "execution_count": 21,
   "metadata": {},
   "outputs": [
    {
     "data": {
      "text/plain": [
       "0.8604651162790697"
      ]
     },
     "execution_count": 21,
     "metadata": {},
     "output_type": "execute_result"
    }
   ],
   "source": [
    "model = RandomForestClassifier(n_estimators=100)\n",
    "model.fit(X_train, y_train)\n",
    "y_pred = model.predict(X_val)\n",
    "model.score(X_val,y_val)"
   ]
  },
  {
   "cell_type": "code",
   "execution_count": 22,
   "metadata": {},
   "outputs": [
    {
     "data": {
      "text/plain": [
       "0.8527131782945736"
      ]
     },
     "execution_count": 22,
     "metadata": {},
     "output_type": "execute_result"
    }
   ],
   "source": [
    "model = RandomForestClassifier(n_estimators=100)\n",
    "model.fit(X_train_smote, y_train_smote)\n",
    "y_pred = model.predict(X_val)\n",
    "model.score(X_val,y_val)\n"
   ]
  },
  {
   "cell_type": "code",
   "execution_count": null,
   "metadata": {},
   "outputs": [],
   "source": []
  },
  {
   "cell_type": "code",
   "execution_count": null,
   "metadata": {},
   "outputs": [],
   "source": []
  },
  {
   "cell_type": "code",
   "execution_count": null,
   "metadata": {},
   "outputs": [],
   "source": []
  }
 ],
 "metadata": {
  "kernelspec": {
   "display_name": "Python 3",
   "language": "python",
   "name": "python3"
  },
  "language_info": {
   "codemirror_mode": {
    "name": "ipython",
    "version": 3
   },
   "file_extension": ".py",
   "mimetype": "text/x-python",
   "name": "python",
   "nbconvert_exporter": "python",
   "pygments_lexer": "ipython3",
   "version": "3.7.7"
  }
 },
 "nbformat": 4,
 "nbformat_minor": 4
}
