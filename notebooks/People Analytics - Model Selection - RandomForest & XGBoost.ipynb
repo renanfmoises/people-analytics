{
 "cells": [
  {
   "cell_type": "markdown",
   "metadata": {},
   "source": [
    "# People Analytics - Data Analysis"
   ]
  },
  {
   "cell_type": "markdown",
   "metadata": {},
   "source": [
    "**Importing libraries and modules**"
   ]
  },
  {
   "cell_type": "code",
   "execution_count": 16,
   "metadata": {},
   "outputs": [],
   "source": [
    "import pandas as pd\n",
    "import numpy as np\n",
    "import matplotlib.pyplot as plt\n",
    "import seaborn as sns\n",
    "\n",
    "from collections import Counter\n",
    "from statsmodels.stats.outliers_influence import variance_inflation_factor as vif\n",
    "from imblearn.over_sampling import SMOTE\n",
    "from scipy.stats import loguniform\n",
    "\n",
    "from sklearn.model_selection import train_test_split, RandomizedSearchCV, GridSearchCV\n",
    "from sklearn.linear_model import LogisticRegression\n",
    "\n",
    "# Dealing with warnings\n",
    "import warnings\n",
    "warnings.filterwarnings('ignore')\n",
    "\n",
    "# Setting DataFrame's to show 100 max columns, instead of compressing then\n",
    "pd.set_option('display.max_columns', 100)"
   ]
  },
  {
   "cell_type": "markdown",
   "metadata": {},
   "source": [
    "## Loading dataset to Jupyter Notebook"
   ]
  },
  {
   "cell_type": "code",
   "execution_count": 3,
   "metadata": {},
   "outputs": [],
   "source": [
    "people = pd.read_csv('../raw_data/people_train.csv')\n",
    "people_f = pd.read_csv('../raw_data/.people_clean.csv')"
   ]
  },
  {
   "cell_type": "code",
   "execution_count": 4,
   "metadata": {},
   "outputs": [
    {
     "data": {
      "text/html": [
       "<div>\n",
       "<style scoped>\n",
       "    .dataframe tbody tr th:only-of-type {\n",
       "        vertical-align: middle;\n",
       "    }\n",
       "\n",
       "    .dataframe tbody tr th {\n",
       "        vertical-align: top;\n",
       "    }\n",
       "\n",
       "    .dataframe thead th {\n",
       "        text-align: right;\n",
       "    }\n",
       "</style>\n",
       "<table border=\"1\" class=\"dataframe\">\n",
       "  <thead>\n",
       "    <tr style=\"text-align: right;\">\n",
       "      <th></th>\n",
       "      <th>employee_id</th>\n",
       "      <th>age</th>\n",
       "      <th>attrition</th>\n",
       "      <th>daily_rate</th>\n",
       "      <th>distance_from_home</th>\n",
       "      <th>education</th>\n",
       "      <th>environment_satisfaction</th>\n",
       "      <th>gender</th>\n",
       "      <th>hourly_rate</th>\n",
       "      <th>job_involvement</th>\n",
       "      <th>job_level</th>\n",
       "      <th>job_satisfaction</th>\n",
       "      <th>monthly_income</th>\n",
       "      <th>monthly_rate</th>\n",
       "      <th>num_companies_worked</th>\n",
       "      <th>over_time</th>\n",
       "      <th>percent_salary_hike</th>\n",
       "      <th>performance_rating</th>\n",
       "      <th>relationship_satisfaction</th>\n",
       "      <th>stock_option_level</th>\n",
       "      <th>total_working_years</th>\n",
       "      <th>training_times_last_year</th>\n",
       "      <th>work_life_balance</th>\n",
       "      <th>years_at_company</th>\n",
       "      <th>years_in_current_role</th>\n",
       "      <th>years_since_last_promotion</th>\n",
       "      <th>years_with_curr_manager</th>\n",
       "      <th>business_travel_Non-Travel</th>\n",
       "      <th>business_travel_Travel_Frequently</th>\n",
       "      <th>business_travel_Travel_Rarely</th>\n",
       "      <th>department_Human Resources</th>\n",
       "      <th>department_Research &amp; Development</th>\n",
       "      <th>department_Sales</th>\n",
       "      <th>education_field_Human Resources</th>\n",
       "      <th>education_field_Life Sciences</th>\n",
       "      <th>education_field_Marketing</th>\n",
       "      <th>education_field_Medical</th>\n",
       "      <th>education_field_Other</th>\n",
       "      <th>education_field_Technical Degree</th>\n",
       "      <th>job_role_Healthcare Representative</th>\n",
       "      <th>job_role_Human Resources</th>\n",
       "      <th>job_role_Laboratory Technician</th>\n",
       "      <th>job_role_Manager</th>\n",
       "      <th>job_role_Manufacturing Director</th>\n",
       "      <th>job_role_Research Director</th>\n",
       "      <th>job_role_Research Scientist</th>\n",
       "      <th>job_role_Sales Executive</th>\n",
       "      <th>job_role_Sales Representative</th>\n",
       "      <th>marital_status_Divorced</th>\n",
       "      <th>marital_status_Married</th>\n",
       "      <th>marital_status_Single</th>\n",
       "    </tr>\n",
       "  </thead>\n",
       "  <tbody>\n",
       "    <tr>\n",
       "      <th>0</th>\n",
       "      <td>456</td>\n",
       "      <td>-0.500000</td>\n",
       "      <td>0</td>\n",
       "      <td>-0.340456</td>\n",
       "      <td>-0.166667</td>\n",
       "      <td>3</td>\n",
       "      <td>4</td>\n",
       "      <td>1</td>\n",
       "      <td>-0.972222</td>\n",
       "      <td>2</td>\n",
       "      <td>2</td>\n",
       "      <td>3</td>\n",
       "      <td>0.240007</td>\n",
       "      <td>-0.694698</td>\n",
       "      <td>-0.333333</td>\n",
       "      <td>0</td>\n",
       "      <td>-0.166667</td>\n",
       "      <td>3</td>\n",
       "      <td>3</td>\n",
       "      <td>3</td>\n",
       "      <td>0.111111</td>\n",
       "      <td>-1.0</td>\n",
       "      <td>3</td>\n",
       "      <td>0.833333</td>\n",
       "      <td>1.2</td>\n",
       "      <td>0.000000</td>\n",
       "      <td>-0.2</td>\n",
       "      <td>0</td>\n",
       "      <td>0</td>\n",
       "      <td>1</td>\n",
       "      <td>0</td>\n",
       "      <td>0</td>\n",
       "      <td>1</td>\n",
       "      <td>0</td>\n",
       "      <td>0</td>\n",
       "      <td>1</td>\n",
       "      <td>0</td>\n",
       "      <td>0</td>\n",
       "      <td>0</td>\n",
       "      <td>0</td>\n",
       "      <td>0</td>\n",
       "      <td>0</td>\n",
       "      <td>0</td>\n",
       "      <td>0</td>\n",
       "      <td>0</td>\n",
       "      <td>0</td>\n",
       "      <td>1</td>\n",
       "      <td>0</td>\n",
       "      <td>1</td>\n",
       "      <td>0</td>\n",
       "      <td>0</td>\n",
       "    </tr>\n",
       "    <tr>\n",
       "      <th>1</th>\n",
       "      <td>485</td>\n",
       "      <td>-0.250000</td>\n",
       "      <td>1</td>\n",
       "      <td>-0.653846</td>\n",
       "      <td>-0.166667</td>\n",
       "      <td>3</td>\n",
       "      <td>4</td>\n",
       "      <td>1</td>\n",
       "      <td>-0.861111</td>\n",
       "      <td>3</td>\n",
       "      <td>1</td>\n",
       "      <td>3</td>\n",
       "      <td>-0.359003</td>\n",
       "      <td>-0.394561</td>\n",
       "      <td>-0.333333</td>\n",
       "      <td>1</td>\n",
       "      <td>-0.166667</td>\n",
       "      <td>3</td>\n",
       "      <td>2</td>\n",
       "      <td>0</td>\n",
       "      <td>-0.888889</td>\n",
       "      <td>-1.0</td>\n",
       "      <td>3</td>\n",
       "      <td>-0.666667</td>\n",
       "      <td>-0.6</td>\n",
       "      <td>-0.333333</td>\n",
       "      <td>-0.6</td>\n",
       "      <td>0</td>\n",
       "      <td>0</td>\n",
       "      <td>1</td>\n",
       "      <td>0</td>\n",
       "      <td>0</td>\n",
       "      <td>1</td>\n",
       "      <td>0</td>\n",
       "      <td>0</td>\n",
       "      <td>1</td>\n",
       "      <td>0</td>\n",
       "      <td>0</td>\n",
       "      <td>0</td>\n",
       "      <td>0</td>\n",
       "      <td>0</td>\n",
       "      <td>0</td>\n",
       "      <td>0</td>\n",
       "      <td>0</td>\n",
       "      <td>0</td>\n",
       "      <td>0</td>\n",
       "      <td>0</td>\n",
       "      <td>1</td>\n",
       "      <td>0</td>\n",
       "      <td>0</td>\n",
       "      <td>1</td>\n",
       "    </tr>\n",
       "    <tr>\n",
       "      <th>2</th>\n",
       "      <td>1049</td>\n",
       "      <td>0.750000</td>\n",
       "      <td>0</td>\n",
       "      <td>-0.029915</td>\n",
       "      <td>1.416667</td>\n",
       "      <td>4</td>\n",
       "      <td>2</td>\n",
       "      <td>0</td>\n",
       "      <td>-0.805556</td>\n",
       "      <td>3</td>\n",
       "      <td>1</td>\n",
       "      <td>2</td>\n",
       "      <td>-0.482582</td>\n",
       "      <td>-0.461706</td>\n",
       "      <td>-0.333333</td>\n",
       "      <td>0</td>\n",
       "      <td>0.333333</td>\n",
       "      <td>3</td>\n",
       "      <td>1</td>\n",
       "      <td>0</td>\n",
       "      <td>-0.333333</td>\n",
       "      <td>0.0</td>\n",
       "      <td>3</td>\n",
       "      <td>0.166667</td>\n",
       "      <td>0.0</td>\n",
       "      <td>-0.333333</td>\n",
       "      <td>0.2</td>\n",
       "      <td>0</td>\n",
       "      <td>0</td>\n",
       "      <td>1</td>\n",
       "      <td>1</td>\n",
       "      <td>0</td>\n",
       "      <td>0</td>\n",
       "      <td>0</td>\n",
       "      <td>0</td>\n",
       "      <td>0</td>\n",
       "      <td>1</td>\n",
       "      <td>0</td>\n",
       "      <td>0</td>\n",
       "      <td>0</td>\n",
       "      <td>1</td>\n",
       "      <td>0</td>\n",
       "      <td>0</td>\n",
       "      <td>0</td>\n",
       "      <td>0</td>\n",
       "      <td>0</td>\n",
       "      <td>0</td>\n",
       "      <td>0</td>\n",
       "      <td>0</td>\n",
       "      <td>0</td>\n",
       "      <td>1</td>\n",
       "    </tr>\n",
       "    <tr>\n",
       "      <th>3</th>\n",
       "      <td>1102</td>\n",
       "      <td>-0.666667</td>\n",
       "      <td>0</td>\n",
       "      <td>0.122507</td>\n",
       "      <td>0.666667</td>\n",
       "      <td>2</td>\n",
       "      <td>1</td>\n",
       "      <td>0</td>\n",
       "      <td>-0.416667</td>\n",
       "      <td>3</td>\n",
       "      <td>1</td>\n",
       "      <td>3</td>\n",
       "      <td>-0.477081</td>\n",
       "      <td>0.681382</td>\n",
       "      <td>-0.333333</td>\n",
       "      <td>0</td>\n",
       "      <td>0.333333</td>\n",
       "      <td>3</td>\n",
       "      <td>4</td>\n",
       "      <td>1</td>\n",
       "      <td>-0.555556</td>\n",
       "      <td>2.0</td>\n",
       "      <td>2</td>\n",
       "      <td>-0.166667</td>\n",
       "      <td>-0.2</td>\n",
       "      <td>0.333333</td>\n",
       "      <td>-0.2</td>\n",
       "      <td>0</td>\n",
       "      <td>0</td>\n",
       "      <td>1</td>\n",
       "      <td>0</td>\n",
       "      <td>1</td>\n",
       "      <td>0</td>\n",
       "      <td>0</td>\n",
       "      <td>1</td>\n",
       "      <td>0</td>\n",
       "      <td>0</td>\n",
       "      <td>0</td>\n",
       "      <td>0</td>\n",
       "      <td>0</td>\n",
       "      <td>0</td>\n",
       "      <td>1</td>\n",
       "      <td>0</td>\n",
       "      <td>0</td>\n",
       "      <td>0</td>\n",
       "      <td>0</td>\n",
       "      <td>0</td>\n",
       "      <td>0</td>\n",
       "      <td>1</td>\n",
       "      <td>0</td>\n",
       "      <td>0</td>\n",
       "    </tr>\n",
       "    <tr>\n",
       "      <th>4</th>\n",
       "      <td>806</td>\n",
       "      <td>-0.500000</td>\n",
       "      <td>0</td>\n",
       "      <td>0.159544</td>\n",
       "      <td>-0.500000</td>\n",
       "      <td>3</td>\n",
       "      <td>4</td>\n",
       "      <td>0</td>\n",
       "      <td>-0.750000</td>\n",
       "      <td>1</td>\n",
       "      <td>1</td>\n",
       "      <td>3</td>\n",
       "      <td>-0.178951</td>\n",
       "      <td>0.834154</td>\n",
       "      <td>0.333333</td>\n",
       "      <td>0</td>\n",
       "      <td>1.166667</td>\n",
       "      <td>4</td>\n",
       "      <td>3</td>\n",
       "      <td>2</td>\n",
       "      <td>-0.222222</td>\n",
       "      <td>-1.0</td>\n",
       "      <td>3</td>\n",
       "      <td>-0.500000</td>\n",
       "      <td>-0.2</td>\n",
       "      <td>-0.333333</td>\n",
       "      <td>-0.2</td>\n",
       "      <td>0</td>\n",
       "      <td>0</td>\n",
       "      <td>1</td>\n",
       "      <td>0</td>\n",
       "      <td>1</td>\n",
       "      <td>0</td>\n",
       "      <td>0</td>\n",
       "      <td>1</td>\n",
       "      <td>0</td>\n",
       "      <td>0</td>\n",
       "      <td>0</td>\n",
       "      <td>0</td>\n",
       "      <td>0</td>\n",
       "      <td>0</td>\n",
       "      <td>1</td>\n",
       "      <td>0</td>\n",
       "      <td>0</td>\n",
       "      <td>0</td>\n",
       "      <td>0</td>\n",
       "      <td>0</td>\n",
       "      <td>0</td>\n",
       "      <td>0</td>\n",
       "      <td>1</td>\n",
       "      <td>0</td>\n",
       "    </tr>\n",
       "  </tbody>\n",
       "</table>\n",
       "</div>"
      ],
      "text/plain": [
       "   employee_id       age  attrition  daily_rate  distance_from_home  \\\n",
       "0          456 -0.500000          0   -0.340456           -0.166667   \n",
       "1          485 -0.250000          1   -0.653846           -0.166667   \n",
       "2         1049  0.750000          0   -0.029915            1.416667   \n",
       "3         1102 -0.666667          0    0.122507            0.666667   \n",
       "4          806 -0.500000          0    0.159544           -0.500000   \n",
       "\n",
       "   education  environment_satisfaction  gender  hourly_rate  job_involvement  \\\n",
       "0          3                         4       1    -0.972222                2   \n",
       "1          3                         4       1    -0.861111                3   \n",
       "2          4                         2       0    -0.805556                3   \n",
       "3          2                         1       0    -0.416667                3   \n",
       "4          3                         4       0    -0.750000                1   \n",
       "\n",
       "   job_level  job_satisfaction  monthly_income  monthly_rate  \\\n",
       "0          2                 3        0.240007     -0.694698   \n",
       "1          1                 3       -0.359003     -0.394561   \n",
       "2          1                 2       -0.482582     -0.461706   \n",
       "3          1                 3       -0.477081      0.681382   \n",
       "4          1                 3       -0.178951      0.834154   \n",
       "\n",
       "   num_companies_worked  over_time  percent_salary_hike  performance_rating  \\\n",
       "0             -0.333333          0            -0.166667                   3   \n",
       "1             -0.333333          1            -0.166667                   3   \n",
       "2             -0.333333          0             0.333333                   3   \n",
       "3             -0.333333          0             0.333333                   3   \n",
       "4              0.333333          0             1.166667                   4   \n",
       "\n",
       "   relationship_satisfaction  stock_option_level  total_working_years  \\\n",
       "0                          3                   3             0.111111   \n",
       "1                          2                   0            -0.888889   \n",
       "2                          1                   0            -0.333333   \n",
       "3                          4                   1            -0.555556   \n",
       "4                          3                   2            -0.222222   \n",
       "\n",
       "   training_times_last_year  work_life_balance  years_at_company  \\\n",
       "0                      -1.0                  3          0.833333   \n",
       "1                      -1.0                  3         -0.666667   \n",
       "2                       0.0                  3          0.166667   \n",
       "3                       2.0                  2         -0.166667   \n",
       "4                      -1.0                  3         -0.500000   \n",
       "\n",
       "   years_in_current_role  years_since_last_promotion  years_with_curr_manager  \\\n",
       "0                    1.2                    0.000000                     -0.2   \n",
       "1                   -0.6                   -0.333333                     -0.6   \n",
       "2                    0.0                   -0.333333                      0.2   \n",
       "3                   -0.2                    0.333333                     -0.2   \n",
       "4                   -0.2                   -0.333333                     -0.2   \n",
       "\n",
       "   business_travel_Non-Travel  business_travel_Travel_Frequently  \\\n",
       "0                           0                                  0   \n",
       "1                           0                                  0   \n",
       "2                           0                                  0   \n",
       "3                           0                                  0   \n",
       "4                           0                                  0   \n",
       "\n",
       "   business_travel_Travel_Rarely  department_Human Resources  \\\n",
       "0                              1                           0   \n",
       "1                              1                           0   \n",
       "2                              1                           1   \n",
       "3                              1                           0   \n",
       "4                              1                           0   \n",
       "\n",
       "   department_Research & Development  department_Sales  \\\n",
       "0                                  0                 1   \n",
       "1                                  0                 1   \n",
       "2                                  0                 0   \n",
       "3                                  1                 0   \n",
       "4                                  1                 0   \n",
       "\n",
       "   education_field_Human Resources  education_field_Life Sciences  \\\n",
       "0                                0                              0   \n",
       "1                                0                              0   \n",
       "2                                0                              0   \n",
       "3                                0                              1   \n",
       "4                                0                              1   \n",
       "\n",
       "   education_field_Marketing  education_field_Medical  education_field_Other  \\\n",
       "0                          1                        0                      0   \n",
       "1                          1                        0                      0   \n",
       "2                          0                        1                      0   \n",
       "3                          0                        0                      0   \n",
       "4                          0                        0                      0   \n",
       "\n",
       "   education_field_Technical Degree  job_role_Healthcare Representative  \\\n",
       "0                                 0                                   0   \n",
       "1                                 0                                   0   \n",
       "2                                 0                                   0   \n",
       "3                                 0                                   0   \n",
       "4                                 0                                   0   \n",
       "\n",
       "   job_role_Human Resources  job_role_Laboratory Technician  job_role_Manager  \\\n",
       "0                         0                               0                 0   \n",
       "1                         0                               0                 0   \n",
       "2                         1                               0                 0   \n",
       "3                         0                               1                 0   \n",
       "4                         0                               1                 0   \n",
       "\n",
       "   job_role_Manufacturing Director  job_role_Research Director  \\\n",
       "0                                0                           0   \n",
       "1                                0                           0   \n",
       "2                                0                           0   \n",
       "3                                0                           0   \n",
       "4                                0                           0   \n",
       "\n",
       "   job_role_Research Scientist  job_role_Sales Executive  \\\n",
       "0                            0                         1   \n",
       "1                            0                         0   \n",
       "2                            0                         0   \n",
       "3                            0                         0   \n",
       "4                            0                         0   \n",
       "\n",
       "   job_role_Sales Representative  marital_status_Divorced  \\\n",
       "0                              0                        1   \n",
       "1                              1                        0   \n",
       "2                              0                        0   \n",
       "3                              0                        1   \n",
       "4                              0                        0   \n",
       "\n",
       "   marital_status_Married  marital_status_Single  \n",
       "0                       0                      0  \n",
       "1                       0                      1  \n",
       "2                       0                      1  \n",
       "3                       0                      0  \n",
       "4                       1                      0  "
      ]
     },
     "execution_count": 4,
     "metadata": {},
     "output_type": "execute_result"
    }
   ],
   "source": [
    "people.head()"
   ]
  },
  {
   "cell_type": "markdown",
   "metadata": {},
   "source": [
    "## Dataprep"
   ]
  },
  {
   "cell_type": "markdown",
   "metadata": {},
   "source": [
    "1. <s>Missing Data</s> (Already done in data cleaning)\n",
    "2. <s>Scaling</s> (Already done in data cleaning)\n",
    "3. <s>Outliers</s> (Already treated in data cleaning)\n",
    "4. <s>Encoding</s> (Already treated in data cleaning)\n",
    "5. Balancing\n",
    "6. Feature engineering\n",
    "7. Feature selection"
   ]
  },
  {
   "cell_type": "markdown",
   "metadata": {},
   "source": [
    "### Target balancing\n",
    "\n",
    "**If dataset's target variable is unballenced (disproportional occurences of 0's and 1's), we should study the possibility to balance it with the appropriate technique.**"
   ]
  },
  {
   "cell_type": "code",
   "execution_count": 10,
   "metadata": {},
   "outputs": [],
   "source": [
    "# Reframing People dataset into predictors (X) and target variables (y)\n",
    "X = people.drop('attrition', axis = 1)\n",
    "y = people['attrition']"
   ]
  },
  {
   "cell_type": "code",
   "execution_count": 8,
   "metadata": {},
   "outputs": [
    {
     "data": {
      "text/plain": [
       "((1029, 50), (1029,))"
      ]
     },
     "execution_count": 8,
     "metadata": {},
     "output_type": "execute_result"
    }
   ],
   "source": [
    "# Checking dataset's shape\n",
    "X.shape, y.shape"
   ]
  },
  {
   "cell_type": "code",
   "execution_count": 9,
   "metadata": {},
   "outputs": [
    {
     "name": "stdout",
     "output_type": "stream",
     "text": [
      "[(0, 862), (1, 167)]\n"
     ]
    }
   ],
   "source": [
    "# Check the target variable classes distribution\n",
    "print(sorted(Counter(y).items()))"
   ]
  },
  {
   "cell_type": "markdown",
   "metadata": {},
   "source": [
    "As expected, dataset is unballanced. We should apply an oversampling technique."
   ]
  },
  {
   "cell_type": "markdown",
   "metadata": {},
   "source": [
    "**Performing SMOTE oversampling techcnique**"
   ]
  },
  {
   "cell_type": "code",
   "execution_count": 13,
   "metadata": {},
   "outputs": [],
   "source": [
    "# Applying SMOTE (suffixes '_res' for resampling)\n",
    "X_res, y_res = SMOTE(random_state = 0).fit_resample(X, y)"
   ]
  },
  {
   "cell_type": "code",
   "execution_count": 14,
   "metadata": {},
   "outputs": [
    {
     "data": {
      "text/plain": [
       "((1724, 50), (1724,))"
      ]
     },
     "execution_count": 14,
     "metadata": {},
     "output_type": "execute_result"
    }
   ],
   "source": [
    "# Checking resamples shape\n",
    "X_res.shape, y_res.shape"
   ]
  },
  {
   "cell_type": "code",
   "execution_count": 15,
   "metadata": {},
   "outputs": [
    {
     "name": "stdout",
     "output_type": "stream",
     "text": [
      "[(0, 862), (1, 862)]\n"
     ]
    }
   ],
   "source": [
    "# Check the target variable classes distribution after SMOTE\n",
    "print(sorted(Counter(y_res).items()))"
   ]
  },
  {
   "cell_type": "markdown",
   "metadata": {},
   "source": [
    "Now we have the same amount of `0`'s and `1`'s for `attrition` (here referred as `y`). We can move to the next task."
   ]
  },
  {
   "cell_type": "code",
   "execution_count": null,
   "metadata": {},
   "outputs": [],
   "source": []
  },
  {
   "cell_type": "code",
   "execution_count": null,
   "metadata": {},
   "outputs": [],
   "source": [
    "# Correlation Matrix\n",
    "corr = people.corr()\n",
    "plt.figure(figsize = (15, 15))\n",
    "sns.heatmap(corr, annot = True)"
   ]
  },
  {
   "cell_type": "code",
   "execution_count": null,
   "metadata": {},
   "outputs": [],
   "source": [
    "people.shape"
   ]
  },
  {
   "cell_type": "code",
   "execution_count": null,
   "metadata": {},
   "outputs": [],
   "source": [
    "print('rank(A):', np.linalg.matrix_rank(people))"
   ]
  },
  {
   "cell_type": "code",
   "execution_count": null,
   "metadata": {},
   "outputs": [],
   "source": []
  },
  {
   "cell_type": "code",
   "execution_count": null,
   "metadata": {},
   "outputs": [],
   "source": [
    "# Checking VIF\n",
    "df = pd.DataFrame()\n",
    "df['vif_index'] = [vif(people.values, i) for i in range(people.shape[1])]\n",
    "df['features'] = people[feats].columns"
   ]
  },
  {
   "cell_type": "code",
   "execution_count": null,
   "metadata": {},
   "outputs": [],
   "source": [
    "feats = [\n",
    " 'employee_id',\n",
    " 'age',\n",
    "#  'attrition',\n",
    " 'daily_rate',\n",
    " 'distance_from_home',\n",
    " 'education',\n",
    " 'environment_satisfaction',\n",
    "#  'gender',\n",
    " 'hourly_rate',\n",
    " 'job_involvement',\n",
    "#  'job_level',\n",
    "#  'job_satisfaction',\n",
    "#  'monthly_income',\n",
    " 'monthly_rate',\n",
    " 'num_companies_worked',\n",
    " 'over_time',\n",
    " 'percent_salary_hike',\n",
    "#  'performance_rating',\n",
    " 'relationship_satisfaction',\n",
    " 'stock_option_level',\n",
    "#  'total_working_years',\n",
    " 'training_times_last_year',\n",
    " 'work_life_balance',\n",
    " 'years_at_company',\n",
    " 'years_in_current_role',\n",
    " 'years_since_last_promotion',\n",
    " 'years_with_curr_manager',\n",
    " 'business_travel_Non-Travel',\n",
    " 'business_travel_Travel_Frequently',\n",
    " 'business_travel_Travel_Rarely',\n",
    " 'department_Human Resources',\n",
    " 'department_Research & Development',\n",
    " 'department_Sales',\n",
    " 'education_field_Human Resources',\n",
    " 'education_field_Life Sciences',\n",
    " 'education_field_Marketing',\n",
    " 'education_field_Medical',\n",
    " 'education_field_Other',\n",
    " 'education_field_Technical Degree',\n",
    " 'job_role_Healthcare Representative',\n",
    " 'job_role_Human Resources',\n",
    " 'job_role_Laboratory Technician',\n",
    " 'job_role_Manager',\n",
    " 'job_role_Manufacturing Director',\n",
    " 'job_role_Research Director',\n",
    " 'job_role_Research Scientist',\n",
    " 'job_role_Sales Executive',\n",
    " 'job_role_Sales Representative',\n",
    " 'marital_status_Divorced',\n",
    " 'marital_status_Married',\n",
    " 'marital_status_Single'\n",
    "]"
   ]
  },
  {
   "cell_type": "code",
   "execution_count": null,
   "metadata": {},
   "outputs": [],
   "source": [
    "df = pd.DataFrame()\n",
    "df['vif_index'] = [vif(people[feats].values, i) for i in range(people[feats].shape[1])]\n",
    "df['features'] = people[feats].columns"
   ]
  },
  {
   "cell_type": "code",
   "execution_count": null,
   "metadata": {},
   "outputs": [],
   "source": [
    "df"
   ]
  },
  {
   "cell_type": "code",
   "execution_count": null,
   "metadata": {},
   "outputs": [],
   "source": [
    "from sklearn.feature_selection import chi2"
   ]
  },
  {
   "cell_type": "code",
   "execution_count": null,
   "metadata": {},
   "outputs": [],
   "source": []
  },
  {
   "cell_type": "code",
   "execution_count": null,
   "metadata": {},
   "outputs": [],
   "source": [
    "dist = loguniform(0.01, 1)"
   ]
  },
  {
   "cell_type": "code",
   "execution_count": null,
   "metadata": {},
   "outputs": [],
   "source": [
    "from sklearn.svm import SVC"
   ]
  },
  {
   "cell_type": "code",
   "execution_count": null,
   "metadata": {},
   "outputs": [],
   "source": [
    "svclass_model = SVC()\n",
    "svclass_model.fit(X_res[feats], y_res)"
   ]
  },
  {
   "cell_type": "code",
   "execution_count": null,
   "metadata": {},
   "outputs": [],
   "source": [
    "X_res[feats]"
   ]
  },
  {
   "cell_type": "code",
   "execution_count": null,
   "metadata": {},
   "outputs": [],
   "source": [
    "svclass_model.score(X_res[feats], y_res)"
   ]
  },
  {
   "cell_type": "code",
   "execution_count": null,
   "metadata": {},
   "outputs": [],
   "source": [
    "X_raw = people_f.drop('attrition', axis = 1)\n",
    "y_raw = people_f['attrition']"
   ]
  },
  {
   "cell_type": "code",
   "execution_count": null,
   "metadata": {},
   "outputs": [],
   "source": []
  }
 ],
 "metadata": {
  "kernelspec": {
   "display_name": "Python 3",
   "language": "python",
   "name": "python3"
  },
  "language_info": {
   "codemirror_mode": {
    "name": "ipython",
    "version": 3
   },
   "file_extension": ".py",
   "mimetype": "text/x-python",
   "name": "python",
   "nbconvert_exporter": "python",
   "pygments_lexer": "ipython3",
   "version": "3.7.7"
  },
  "toc": {
   "base_numbering": 1,
   "nav_menu": {},
   "number_sections": true,
   "sideBar": true,
   "skip_h1_title": false,
   "title_cell": "Table of Contents",
   "title_sidebar": "Contents",
   "toc_cell": false,
   "toc_position": {},
   "toc_section_display": true,
   "toc_window_display": false
  },
  "varInspector": {
   "cols": {
    "lenName": 16,
    "lenType": 16,
    "lenVar": 40
   },
   "kernels_config": {
    "python": {
     "delete_cmd_postfix": "",
     "delete_cmd_prefix": "del ",
     "library": "var_list.py",
     "varRefreshCmd": "print(var_dic_list())"
    },
    "r": {
     "delete_cmd_postfix": ") ",
     "delete_cmd_prefix": "rm(",
     "library": "var_list.r",
     "varRefreshCmd": "cat(var_dic_list()) "
    }
   },
   "types_to_exclude": [
    "module",
    "function",
    "builtin_function_or_method",
    "instance",
    "_Feature"
   ],
   "window_display": false
  }
 },
 "nbformat": 4,
 "nbformat_minor": 4
}
