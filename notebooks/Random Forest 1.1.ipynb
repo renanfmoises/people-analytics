{
 "cells": [
  {
   "cell_type": "code",
   "execution_count": 1,
   "metadata": {},
   "outputs": [],
   "source": [
    "import pandas as pd\n",
    "import numpy as np\n",
    "import matplotlib.pyplot as plt\n",
    "import seaborn as sns\n",
    "import warnings\n",
    "\n",
    "from sklearn.linear_model import LinearRegression # explicit class import from module\n",
    "from sklearn.linear_model import LogisticRegression # explicit class import from module\n",
    "from sklearn.dummy import DummyRegressor\n",
    "from sklearn.neighbors import KNeighborsClassifier #we know where this object comes from\n",
    "from sklearn.model_selection import train_test_split\n",
    "from sklearn import metrics\n",
    "from sklearn.model_selection import cross_validate\n",
    "from sklearn.model_selection import cross_val_score\n",
    "from sklearn.metrics import accuracy_score, f1_score, recall_score\n",
    "from sklearn.ensemble import RandomForestClassifier\n",
    "\n",
    "from imblearn.over_sampling import SMOTE\n",
    "\n",
    "warnings.filterwarnings('ignore') # Code for stopping warnings (deprecation warning, etc.)\n",
    "pd.set_option('display.max_columns', None) # Code for showing all columns in the dateset, withoud '...' in between."
   ]
  },
  {
   "cell_type": "code",
   "execution_count": 2,
   "metadata": {},
   "outputs": [],
   "source": [
    "people = pd.read_csv(\"../raw_data/people_train.csv\")"
   ]
  },
  {
   "cell_type": "code",
   "execution_count": 3,
   "metadata": {},
   "outputs": [],
   "source": [
    "X = people.drop(columns = 'attrition')\n",
    "y = people['attrition']"
   ]
  },
  {
   "cell_type": "code",
   "execution_count": 4,
   "metadata": {},
   "outputs": [],
   "source": [
    "X_train, X_val, y_train, y_val = train_test_split(X,y, random_state = 0)"
   ]
  },
  {
   "cell_type": "code",
   "execution_count": 9,
   "metadata": {},
   "outputs": [],
   "source": [
    "sm = SMOTE(random_state=0)\n",
    "X_train_smote, y_train_smote = sm.fit_sample(X_train, y_train)"
   ]
  },
  {
   "cell_type": "code",
   "execution_count": 10,
   "metadata": {},
   "outputs": [
    {
     "name": "stdout",
     "output_type": "stream",
     "text": [
      "before SMOTE : Counter({0: 646, 1: 125})\n",
      "after SMOTE : Counter({0: 646, 1: 646})\n"
     ]
    }
   ],
   "source": [
    "from collections import Counter\n",
    "print('before SMOTE :' , Counter(y_train))\n",
    "print('after SMOTE :' , Counter(y_train_smote))"
   ]
  },
  {
   "cell_type": "code",
   "execution_count": 11,
   "metadata": {},
   "outputs": [
    {
     "name": "stdout",
     "output_type": "stream",
     "text": [
      "accuracy:  0.8521323837452869\n",
      "f1:  0.19552824714115036\n",
      "recall:  0.12000000000000002\n"
     ]
    }
   ],
   "source": [
    "#sem smote\n",
    "model = RandomForestClassifier(n_estimators=100)\n",
    "sacc = cross_val_score(model, X_train, y_train, scoring='accuracy')\n",
    "sf1 = cross_val_score(model, X_train, y_train, scoring='f1')\n",
    "sre = cross_val_score(model, X_train, y_train, scoring='recall')\n",
    "print('accuracy: ',sacc.mean())\n",
    "print('f1: ',sf1.mean())\n",
    "print('recall: ',sre.mean())"
   ]
  },
  {
   "cell_type": "code",
   "execution_count": 12,
   "metadata": {},
   "outputs": [
    {
     "name": "stdout",
     "output_type": "stream",
     "text": [
      "accuracy:  0.9088324204603275\n",
      "f1:  0.8674849276413734\n",
      "recall:  0.8434347048300538\n"
     ]
    }
   ],
   "source": [
    "#com smote\n",
    "model = RandomForestClassifier(n_estimators=100)\n",
    "sacc = cross_val_score(model, X_train_smote, y_train_smote, scoring='accuracy')\n",
    "sf1 = cross_val_score(model, X_train_smote, y_train_smote, scoring='f1')\n",
    "sre = cross_val_score(model, X_train_smote, y_train_smote, scoring='recall')\n",
    "print('accuracy: ',sacc.mean())\n",
    "print('f1: ',sf1.mean())\n",
    "print('recall: ',sre.mean())\n"
   ]
  },
  {
   "cell_type": "code",
   "execution_count": null,
   "metadata": {},
   "outputs": [],
   "source": []
  }
 ],
 "metadata": {
  "kernelspec": {
   "display_name": "Python 3",
   "language": "python",
   "name": "python3"
  },
  "language_info": {
   "codemirror_mode": {
    "name": "ipython",
    "version": 3
   },
   "file_extension": ".py",
   "mimetype": "text/x-python",
   "name": "python",
   "nbconvert_exporter": "python",
   "pygments_lexer": "ipython3",
   "version": "3.7.7"
  }
 },
 "nbformat": 4,
 "nbformat_minor": 4
}
