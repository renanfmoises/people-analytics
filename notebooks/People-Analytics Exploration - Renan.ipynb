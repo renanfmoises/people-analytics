{
 "cells": [
  {
   "cell_type": "code",
   "execution_count": 1,
   "metadata": {},
   "outputs": [],
   "source": [
    "import pandas as pd\n",
    "import numpy as np\n",
    "import matplotlib.pyplot as plt\n",
    "import seaborn as sns\n",
    "\n",
    "from collections import Counter\n",
    "\n",
    "from sklearn.preprocessing import RobustScaler, MinMaxScaler, StandardScaler, OneHotEncoder\n",
    "from sklearn.model_selection import train_test_split, cross_validate\n",
    "\n",
    "import warnings\n",
    "warnings.filterwarnings('ignore') # Code for stopping warnings (deprecation warning, etc.)\n",
    "\n",
    "pd.set_option('display.max_columns', None) # Code for showing all columns in the dateset, withoud '...' in between."
   ]
  },
  {
   "cell_type": "code",
   "execution_count": 2,
   "metadata": {},
   "outputs": [
    {
     "data": {
      "text/html": [
       "<div>\n",
       "<style scoped>\n",
       "    .dataframe tbody tr th:only-of-type {\n",
       "        vertical-align: middle;\n",
       "    }\n",
       "\n",
       "    .dataframe tbody tr th {\n",
       "        vertical-align: top;\n",
       "    }\n",
       "\n",
       "    .dataframe thead th {\n",
       "        text-align: right;\n",
       "    }\n",
       "</style>\n",
       "<table border=\"1\" class=\"dataframe\">\n",
       "  <thead>\n",
       "    <tr style=\"text-align: right;\">\n",
       "      <th></th>\n",
       "      <th>employee_id</th>\n",
       "      <th>age</th>\n",
       "      <th>attrition</th>\n",
       "      <th>business_travel</th>\n",
       "      <th>daily_rate</th>\n",
       "      <th>department</th>\n",
       "      <th>distance_from_home</th>\n",
       "      <th>education</th>\n",
       "      <th>education_field</th>\n",
       "      <th>environment_satisfaction</th>\n",
       "      <th>gender</th>\n",
       "      <th>hourly_rate</th>\n",
       "      <th>job_involvement</th>\n",
       "      <th>job_level</th>\n",
       "      <th>job_role</th>\n",
       "      <th>job_satisfaction</th>\n",
       "      <th>marital_status</th>\n",
       "      <th>monthly_income</th>\n",
       "      <th>monthly_rate</th>\n",
       "      <th>num_companies_worked</th>\n",
       "      <th>over</th>\n",
       "      <th>over_time</th>\n",
       "      <th>percent_salary_hike</th>\n",
       "      <th>performance_rating</th>\n",
       "      <th>relationship_satisfaction</th>\n",
       "      <th>standard_hours</th>\n",
       "      <th>stock_option_level</th>\n",
       "      <th>total_working_years</th>\n",
       "      <th>training_times_last_year</th>\n",
       "      <th>work_life_balance</th>\n",
       "      <th>years_at_company</th>\n",
       "      <th>years_in_current_role</th>\n",
       "      <th>years_since_last_promotion</th>\n",
       "      <th>years_with_curr_manager</th>\n",
       "    </tr>\n",
       "  </thead>\n",
       "  <tbody>\n",
       "    <tr>\n",
       "      <th>0</th>\n",
       "      <td>1</td>\n",
       "      <td>41</td>\n",
       "      <td>Yes</td>\n",
       "      <td>Travel_Rarely</td>\n",
       "      <td>1102</td>\n",
       "      <td>Sales</td>\n",
       "      <td>1</td>\n",
       "      <td>2</td>\n",
       "      <td>Life Sciences</td>\n",
       "      <td>2</td>\n",
       "      <td>Female</td>\n",
       "      <td>94</td>\n",
       "      <td>3</td>\n",
       "      <td>2</td>\n",
       "      <td>Sales Executive</td>\n",
       "      <td>4</td>\n",
       "      <td>Single</td>\n",
       "      <td>5993</td>\n",
       "      <td>19479</td>\n",
       "      <td>8</td>\n",
       "      <td>Y</td>\n",
       "      <td>Yes</td>\n",
       "      <td>11</td>\n",
       "      <td>3</td>\n",
       "      <td>1</td>\n",
       "      <td>80</td>\n",
       "      <td>0</td>\n",
       "      <td>8</td>\n",
       "      <td>0</td>\n",
       "      <td>1</td>\n",
       "      <td>6</td>\n",
       "      <td>4</td>\n",
       "      <td>0</td>\n",
       "      <td>5</td>\n",
       "    </tr>\n",
       "    <tr>\n",
       "      <th>1</th>\n",
       "      <td>2</td>\n",
       "      <td>49</td>\n",
       "      <td>No</td>\n",
       "      <td>Travel_Frequently</td>\n",
       "      <td>279</td>\n",
       "      <td>Research &amp; Development</td>\n",
       "      <td>8</td>\n",
       "      <td>1</td>\n",
       "      <td>Life Sciences</td>\n",
       "      <td>3</td>\n",
       "      <td>Male</td>\n",
       "      <td>61</td>\n",
       "      <td>2</td>\n",
       "      <td>2</td>\n",
       "      <td>Research Scientist</td>\n",
       "      <td>2</td>\n",
       "      <td>Married</td>\n",
       "      <td>5130</td>\n",
       "      <td>24907</td>\n",
       "      <td>1</td>\n",
       "      <td>Y</td>\n",
       "      <td>No</td>\n",
       "      <td>23</td>\n",
       "      <td>4</td>\n",
       "      <td>4</td>\n",
       "      <td>80</td>\n",
       "      <td>1</td>\n",
       "      <td>10</td>\n",
       "      <td>3</td>\n",
       "      <td>3</td>\n",
       "      <td>10</td>\n",
       "      <td>7</td>\n",
       "      <td>1</td>\n",
       "      <td>7</td>\n",
       "    </tr>\n",
       "    <tr>\n",
       "      <th>2</th>\n",
       "      <td>4</td>\n",
       "      <td>37</td>\n",
       "      <td>Yes</td>\n",
       "      <td>Travel_Rarely</td>\n",
       "      <td>1373</td>\n",
       "      <td>Research &amp; Development</td>\n",
       "      <td>2</td>\n",
       "      <td>2</td>\n",
       "      <td>Other</td>\n",
       "      <td>4</td>\n",
       "      <td>Male</td>\n",
       "      <td>92</td>\n",
       "      <td>2</td>\n",
       "      <td>1</td>\n",
       "      <td>Laboratory Technician</td>\n",
       "      <td>3</td>\n",
       "      <td>Single</td>\n",
       "      <td>2090</td>\n",
       "      <td>2396</td>\n",
       "      <td>6</td>\n",
       "      <td>Y</td>\n",
       "      <td>Yes</td>\n",
       "      <td>15</td>\n",
       "      <td>3</td>\n",
       "      <td>2</td>\n",
       "      <td>80</td>\n",
       "      <td>0</td>\n",
       "      <td>7</td>\n",
       "      <td>3</td>\n",
       "      <td>3</td>\n",
       "      <td>0</td>\n",
       "      <td>0</td>\n",
       "      <td>0</td>\n",
       "      <td>0</td>\n",
       "    </tr>\n",
       "  </tbody>\n",
       "</table>\n",
       "</div>"
      ],
      "text/plain": [
       "   employee_id  age attrition    business_travel  daily_rate  \\\n",
       "0            1   41       Yes      Travel_Rarely        1102   \n",
       "1            2   49        No  Travel_Frequently         279   \n",
       "2            4   37       Yes      Travel_Rarely        1373   \n",
       "\n",
       "               department  distance_from_home  education education_field  \\\n",
       "0                   Sales                   1          2   Life Sciences   \n",
       "1  Research & Development                   8          1   Life Sciences   \n",
       "2  Research & Development                   2          2           Other   \n",
       "\n",
       "   environment_satisfaction  gender  hourly_rate  job_involvement  job_level  \\\n",
       "0                         2  Female           94                3          2   \n",
       "1                         3    Male           61                2          2   \n",
       "2                         4    Male           92                2          1   \n",
       "\n",
       "                job_role  job_satisfaction marital_status  monthly_income  \\\n",
       "0        Sales Executive                 4         Single            5993   \n",
       "1     Research Scientist                 2        Married            5130   \n",
       "2  Laboratory Technician                 3         Single            2090   \n",
       "\n",
       "   monthly_rate  num_companies_worked over over_time  percent_salary_hike  \\\n",
       "0         19479                     8    Y       Yes                   11   \n",
       "1         24907                     1    Y        No                   23   \n",
       "2          2396                     6    Y       Yes                   15   \n",
       "\n",
       "   performance_rating  relationship_satisfaction  standard_hours  \\\n",
       "0                   3                          1              80   \n",
       "1                   4                          4              80   \n",
       "2                   3                          2              80   \n",
       "\n",
       "   stock_option_level  total_working_years  training_times_last_year  \\\n",
       "0                   0                    8                         0   \n",
       "1                   1                   10                         3   \n",
       "2                   0                    7                         3   \n",
       "\n",
       "   work_life_balance  years_at_company  years_in_current_role  \\\n",
       "0                  1                 6                      4   \n",
       "1                  3                10                      7   \n",
       "2                  3                 0                      0   \n",
       "\n",
       "   years_since_last_promotion  years_with_curr_manager  \n",
       "0                           0                        5  \n",
       "1                           1                        7  \n",
       "2                           0                        0  "
      ]
     },
     "execution_count": 2,
     "metadata": {},
     "output_type": "execute_result"
    }
   ],
   "source": [
    "people = pd.read_csv('../raw_data/people_clean.csv')\n",
    "people.head(3)"
   ]
  },
  {
   "cell_type": "markdown",
   "metadata": {},
   "source": [
    "PROJECT STEPS:\n",
    "\n",
    "1. Check variable type.\n",
    "2. Check duplicate values in `employee_id`."
   ]
  },
  {
   "cell_type": "code",
   "execution_count": 3,
   "metadata": {},
   "outputs": [
    {
     "name": "stdout",
     "output_type": "stream",
     "text": [
      "<class 'pandas.core.frame.DataFrame'>\n",
      "RangeIndex: 1470 entries, 0 to 1469\n",
      "Data columns (total 34 columns):\n",
      "employee_id                   1470 non-null int64\n",
      "age                           1470 non-null int64\n",
      "attrition                     1470 non-null object\n",
      "business_travel               1470 non-null object\n",
      "daily_rate                    1470 non-null int64\n",
      "department                    1470 non-null object\n",
      "distance_from_home            1470 non-null int64\n",
      "education                     1470 non-null int64\n",
      "education_field               1470 non-null object\n",
      "environment_satisfaction      1470 non-null int64\n",
      "gender                        1470 non-null object\n",
      "hourly_rate                   1470 non-null int64\n",
      "job_involvement               1470 non-null int64\n",
      "job_level                     1470 non-null int64\n",
      "job_role                      1470 non-null object\n",
      "job_satisfaction              1470 non-null int64\n",
      "marital_status                1470 non-null object\n",
      "monthly_income                1470 non-null int64\n",
      "monthly_rate                  1470 non-null int64\n",
      "num_companies_worked          1470 non-null int64\n",
      "over                          1470 non-null object\n",
      "over_time                     1470 non-null object\n",
      "percent_salary_hike           1470 non-null int64\n",
      "performance_rating            1470 non-null int64\n",
      "relationship_satisfaction     1470 non-null int64\n",
      "standard_hours                1470 non-null int64\n",
      "stock_option_level            1470 non-null int64\n",
      "total_working_years           1470 non-null int64\n",
      "training_times_last_year      1470 non-null int64\n",
      "work_life_balance             1470 non-null int64\n",
      "years_at_company              1470 non-null int64\n",
      "years_in_current_role         1470 non-null int64\n",
      "years_since_last_promotion    1470 non-null int64\n",
      "years_with_curr_manager       1470 non-null int64\n",
      "dtypes: int64(25), object(9)\n",
      "memory usage: 390.5+ KB\n"
     ]
    }
   ],
   "source": [
    "people.info()"
   ]
  },
  {
   "cell_type": "code",
   "execution_count": 4,
   "metadata": {},
   "outputs": [
    {
     "data": {
      "text/plain": [
       "array(['Y'], dtype=object)"
      ]
     },
     "execution_count": 4,
     "metadata": {},
     "output_type": "execute_result"
    }
   ],
   "source": [
    "people['over'].unique() # Variable with a single value. Does not influence the target."
   ]
  },
  {
   "cell_type": "markdown",
   "metadata": {},
   "source": [
    "Dropping `over` from dataset. "
   ]
  },
  {
   "cell_type": "code",
   "execution_count": 5,
   "metadata": {},
   "outputs": [],
   "source": [
    "people = people.drop(['over', 'standard_hours'], axis = 1)"
   ]
  },
  {
   "cell_type": "markdown",
   "metadata": {},
   "source": [
    "Check duplicate values in `employee_id`."
   ]
  },
  {
   "cell_type": "code",
   "execution_count": 6,
   "metadata": {},
   "outputs": [
    {
     "data": {
      "text/plain": [
       "0"
      ]
     },
     "execution_count": 6,
     "metadata": {},
     "output_type": "execute_result"
    }
   ],
   "source": [
    "people['employee_id'].duplicated().sum() # No duplicated entries in employee_id. Data is reliable."
   ]
  },
  {
   "cell_type": "markdown",
   "metadata": {},
   "source": [
    "Investigating numeric features"
   ]
  },
  {
   "cell_type": "code",
   "execution_count": 7,
   "metadata": {},
   "outputs": [
    {
     "data": {
      "text/plain": [
       "['employee_id',\n",
       " 'age',\n",
       " 'daily_rate',\n",
       " 'distance_from_home',\n",
       " 'education',\n",
       " 'environment_satisfaction',\n",
       " 'hourly_rate',\n",
       " 'job_involvement',\n",
       " 'job_level',\n",
       " 'job_satisfaction',\n",
       " 'monthly_income',\n",
       " 'monthly_rate',\n",
       " 'num_companies_worked',\n",
       " 'percent_salary_hike',\n",
       " 'performance_rating',\n",
       " 'relationship_satisfaction',\n",
       " 'stock_option_level',\n",
       " 'total_working_years',\n",
       " 'training_times_last_year',\n",
       " 'work_life_balance',\n",
       " 'years_at_company',\n",
       " 'years_in_current_role',\n",
       " 'years_since_last_promotion',\n",
       " 'years_with_curr_manager']"
      ]
     },
     "execution_count": 7,
     "metadata": {},
     "output_type": "execute_result"
    }
   ],
   "source": [
    "semi_numeric = people.select_dtypes(include = np.number).columns.tolist()\n",
    "semi_numeric"
   ]
  },
  {
   "cell_type": "code",
   "execution_count": 8,
   "metadata": {},
   "outputs": [
    {
     "data": {
      "text/plain": [
       "['age',\n",
       " 'daily_rate',\n",
       " 'distance_from_home',\n",
       " 'hourly_rate',\n",
       " 'monthly_income',\n",
       " 'monthly_rate',\n",
       " 'num_companies_worked',\n",
       " 'percent_salary_hike',\n",
       " 'total_working_years',\n",
       " 'training_times_last_year',\n",
       " 'years_at_company',\n",
       " 'years_in_current_role',\n",
       " 'years_since_last_promotion',\n",
       " 'years_with_curr_manager']"
      ]
     },
     "execution_count": 8,
     "metadata": {},
     "output_type": "execute_result"
    }
   ],
   "source": [
    "non_numeric = [\n",
    "     'employee_id',\n",
    "     'education',\n",
    "     'environment_satisfaction',\n",
    "     'job_involvement',\n",
    "     'job_level',\n",
    "     'job_satisfaction',\n",
    "     'performance_rating',\n",
    "     'relationship_satisfaction',\n",
    "     'stock_option_level',\n",
    "     'work_life_balance'\n",
    "]\n",
    "\n",
    "numeric_features = list((Counter(semi_numeric) - Counter(non_numeric)).elements())\n",
    "numeric_features"
   ]
  },
  {
   "cell_type": "code",
   "execution_count": 9,
   "metadata": {
    "scrolled": false
   },
   "outputs": [],
   "source": [
    "# plt.figure(figsize = (10, 10))\n",
    "# for i, feature in enumerate(numeric_features):\n",
    "# #     for i in plt.subplot(2, 2, i + 1):\n",
    "#     f, (ax_box, ax_hist) = plt.subplots(2, sharex=True, \n",
    "#                                         gridspec_kw={\"height_ratios\": (.15, .85)})\n",
    "\n",
    "#     sns.boxplot(people[feature], ax=ax_box)\n",
    "#     sns.distplot(people[feature], ax=ax_hist)\n",
    "\n",
    "#     ax_box.set(yticks=[])\n",
    "#     sns.despine(ax=ax_hist)\n",
    "#     sns.despine(ax=ax_box, left=True);"
   ]
  },
  {
   "cell_type": "code",
   "execution_count": 10,
   "metadata": {},
   "outputs": [
    {
     "data": {
      "text/plain": [
       "0"
      ]
     },
     "execution_count": 10,
     "metadata": {},
     "output_type": "execute_result"
    }
   ],
   "source": [
    "(people['age'] <= people['total_working_years']).sum() # Checked data"
   ]
  },
  {
   "cell_type": "code",
   "execution_count": 11,
   "metadata": {},
   "outputs": [
    {
     "data": {
      "text/plain": [
       "0"
      ]
     },
     "execution_count": 11,
     "metadata": {},
     "output_type": "execute_result"
    }
   ],
   "source": [
    "(people['total_working_years'] < people['years_at_company']).sum() # Checked data"
   ]
  },
  {
   "cell_type": "code",
   "execution_count": 12,
   "metadata": {},
   "outputs": [
    {
     "data": {
      "text/plain": [
       "0"
      ]
     },
     "execution_count": 12,
     "metadata": {},
     "output_type": "execute_result"
    }
   ],
   "source": [
    "(people['years_in_current_role'] > people['total_working_years']).sum()"
   ]
  },
  {
   "cell_type": "code",
   "execution_count": 13,
   "metadata": {},
   "outputs": [
    {
     "data": {
      "text/plain": [
       "0"
      ]
     },
     "execution_count": 13,
     "metadata": {},
     "output_type": "execute_result"
    }
   ],
   "source": [
    "(people['years_in_current_role'] > people['years_at_company']).sum()"
   ]
  },
  {
   "cell_type": "code",
   "execution_count": 14,
   "metadata": {},
   "outputs": [
    {
     "data": {
      "text/plain": [
       "['employee_id',\n",
       " 'age',\n",
       " 'attrition',\n",
       " 'business_travel',\n",
       " 'daily_rate',\n",
       " 'department',\n",
       " 'distance_from_home',\n",
       " 'education',\n",
       " 'education_field',\n",
       " 'environment_satisfaction',\n",
       " 'gender',\n",
       " 'hourly_rate',\n",
       " 'job_involvement',\n",
       " 'job_level',\n",
       " 'job_role',\n",
       " 'job_satisfaction',\n",
       " 'marital_status',\n",
       " 'monthly_income',\n",
       " 'monthly_rate',\n",
       " 'num_companies_worked',\n",
       " 'over_time',\n",
       " 'percent_salary_hike',\n",
       " 'performance_rating',\n",
       " 'relationship_satisfaction',\n",
       " 'stock_option_level',\n",
       " 'total_working_years',\n",
       " 'training_times_last_year',\n",
       " 'work_life_balance',\n",
       " 'years_at_company',\n",
       " 'years_in_current_role',\n",
       " 'years_since_last_promotion',\n",
       " 'years_with_curr_manager']"
      ]
     },
     "execution_count": 14,
     "metadata": {},
     "output_type": "execute_result"
    }
   ],
   "source": [
    "people.columns.tolist()"
   ]
  },
  {
   "cell_type": "code",
   "execution_count": 15,
   "metadata": {},
   "outputs": [],
   "source": [
    "to_robust_scale = [\n",
    " 'monthly_income',\n",
    " 'num_companies_worked',\n",
    " 'total_working_years',\n",
    " 'training_times_last_year',\n",
    " 'years_at_company',\n",
    " 'years_in_current_role',\n",
    " 'years_since_last_promotion',\n",
    " 'years_with_curr_manager'\n",
    "]"
   ]
  },
  {
   "cell_type": "code",
   "execution_count": 16,
   "metadata": {},
   "outputs": [],
   "source": [
    "people['attrition'] = people['attrition'].map({\n",
    "                                    'Yes': 1,\n",
    "                                    'No': 0\n",
    "                                })"
   ]
  },
  {
   "cell_type": "code",
   "execution_count": 17,
   "metadata": {},
   "outputs": [],
   "source": [
    "people['over_time'] = people['over_time'].map({\n",
    "                                    'Yes': 1,\n",
    "                                    'No': 0\n",
    "                                })"
   ]
  },
  {
   "cell_type": "code",
   "execution_count": 18,
   "metadata": {},
   "outputs": [],
   "source": [
    "people['gender'] = people['gender'].map({'Female': 1,\n",
    "                                         'Male': 0})"
   ]
  },
  {
   "cell_type": "code",
   "execution_count": 19,
   "metadata": {},
   "outputs": [],
   "source": [
    "people_train, people_test = train_test_split(people, test_size = .3, random_state = 0)"
   ]
  },
  {
   "cell_type": "code",
   "execution_count": 21,
   "metadata": {},
   "outputs": [],
   "source": [
    "# Robust Scaling\n",
    "rob_scaler = RobustScaler()\n",
    "people_train[numeric_features] = rob_scaler.fit_transform(people_train[numeric_features])"
   ]
  },
  {
   "cell_type": "code",
   "execution_count": 22,
   "metadata": {},
   "outputs": [],
   "source": [
    "# One hot encoding categorical features\n",
    "to_one_hot = [\n",
    "    'business_travel',\n",
    "    'department', \n",
    "    'education_field',\n",
    "    'job_role',\n",
    "    'marital_status'\n",
    "]"
   ]
  },
  {
   "cell_type": "code",
   "execution_count": 23,
   "metadata": {},
   "outputs": [],
   "source": [
    "people_train = pd.get_dummies(people_train, columns = to_one_hot)"
   ]
  },
  {
   "cell_type": "code",
   "execution_count": 24,
   "metadata": {},
   "outputs": [],
   "source": [
    "people_train.to_csv('../raw_data/people_train.csv', header = True, index = False)\n",
    "people_test.to_csv('../raw_data/people_test.csv', header = True, index = False)"
   ]
  },
  {
   "cell_type": "code",
   "execution_count": null,
   "metadata": {},
   "outputs": [],
   "source": [
    "from sklearn.linear_model import LogisticRegression\n",
    "log_model = LogisticRegression()\n",
    "\n",
    "log_model.fit(X_train, y_train)"
   ]
  },
  {
   "cell_type": "code",
   "execution_count": null,
   "metadata": {},
   "outputs": [],
   "source": [
    "log_model.score(X_val, y_val)"
   ]
  },
  {
   "cell_type": "code",
   "execution_count": null,
   "metadata": {},
   "outputs": [],
   "source": []
  }
 ],
 "metadata": {
  "kernelspec": {
   "display_name": "Python 3",
   "language": "python",
   "name": "python3"
  },
  "language_info": {
   "codemirror_mode": {
    "name": "ipython",
    "version": 3
   },
   "file_extension": ".py",
   "mimetype": "text/x-python",
   "name": "python",
   "nbconvert_exporter": "python",
   "pygments_lexer": "ipython3",
   "version": "3.7.7"
  },
  "toc": {
   "base_numbering": 1,
   "nav_menu": {},
   "number_sections": true,
   "sideBar": true,
   "skip_h1_title": false,
   "title_cell": "Table of Contents",
   "title_sidebar": "Contents",
   "toc_cell": false,
   "toc_position": {},
   "toc_section_display": true,
   "toc_window_display": false
  },
  "varInspector": {
   "cols": {
    "lenName": 16,
    "lenType": 16,
    "lenVar": 40
   },
   "kernels_config": {
    "python": {
     "delete_cmd_postfix": "",
     "delete_cmd_prefix": "del ",
     "library": "var_list.py",
     "varRefreshCmd": "print(var_dic_list())"
    },
    "r": {
     "delete_cmd_postfix": ") ",
     "delete_cmd_prefix": "rm(",
     "library": "var_list.r",
     "varRefreshCmd": "cat(var_dic_list()) "
    }
   },
   "types_to_exclude": [
    "module",
    "function",
    "builtin_function_or_method",
    "instance",
    "_Feature"
   ],
   "window_display": false
  }
 },
 "nbformat": 4,
 "nbformat_minor": 4
}
